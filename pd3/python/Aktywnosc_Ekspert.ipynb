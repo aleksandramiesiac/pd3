{
 "cells": [
  {
   "cell_type": "code",
   "execution_count": 1,
   "metadata": {},
   "outputs": [],
   "source": [
    "import pandas as pd\n",
    "import numpy as np\n",
    "from funkcje.main_05_wczytanie_csv import wczytaj_main\n",
    "import matplotlib.pyplot as plt\n",
    "import seaborn as sns\n",
    "import random"
   ]
  },
  {
   "cell_type": "markdown",
   "metadata": {},
   "source": [
    "# Users"
   ]
  },
  {
   "cell_type": "code",
   "execution_count": 2,
   "metadata": {},
   "outputs": [
    {
     "name": "stdout",
     "output_type": "stream",
     "text": [
      "Zaczynamy!\n"
     ]
    },
    {
     "name": "stderr",
     "output_type": "stream",
     "text": [
      "100%|██████████| 15/15 [00:28<00:00,  2.05s/it]\n",
      "100%|██████████| 15/15 [00:05<00:00,  1.96it/s]\n",
      "100%|██████████| 15/15 [00:08<00:00,  1.04it/s]\n",
      "100%|██████████| 15/15 [00:03<00:00,  2.91it/s]\n",
      "100%|██████████| 15/15 [00:09<00:00,  1.06it/s]\n",
      "100%|██████████| 15/15 [00:11<00:00,  1.26s/it]\n",
      "100%|██████████| 15/15 [00:04<00:00,  2.37it/s]\n",
      "100%|██████████| 15/15 [00:09<00:00,  1.14it/s]\n",
      "100%|██████████| 15/15 [00:02<00:00,  4.88it/s]\n",
      "100%|██████████| 15/15 [00:02<00:00,  5.00it/s]\n",
      "100%|██████████| 15/15 [00:01<00:00,  6.02it/s]\n",
      "100%|██████████| 15/15 [00:16<00:00,  1.51s/it]\n",
      "100%|██████████| 15/15 [00:07<00:00,  1.45it/s]\n",
      "100%|██████████| 15/15 [00:09<00:00,  1.05it/s]\n",
      "100%|██████████| 15/15 [00:05<00:00,  2.14it/s]\n",
      "100%|██████████| 15/15 [00:03<00:00,  3.29it/s]\n",
      "100%|██████████| 15/15 [00:10<00:00,  1.53s/it]\n",
      "100%|██████████| 15/15 [00:11<00:00,  1.08s/it]\n",
      "100%|██████████| 15/15 [00:23<00:00,  3.38s/it]\n",
      "100%|██████████| 15/15 [00:09<00:00,  1.31it/s]\n",
      "100%|██████████| 15/15 [00:16<00:00,  1.65s/it]\n",
      "100%|██████████| 15/15 [00:05<00:00,  2.03it/s]\n",
      "100%|██████████| 8/8 [00:06<00:00,  1.40it/s]\n"
     ]
    },
    {
     "name": "stdout",
     "output_type": "stream",
     "text": [
      "Gotowe! Zajęło nam to: 302.7s\n"
     ]
    }
   ],
   "source": [
    "users = wczytaj_main(\n",
    "    input_path=\"/media/ola/Elements SE/dane_gotowe/\",\n",
    "    typ_pliku=\"Users\",\n",
    "    kolumny=['Id', 'Reputation', 'CreationDate', 'DisplayName', 'LastAccessDate', 'Location', 'AboutMe', 'Views', 'UpVotes', 'DownVotes', 'AccountId'],\n",
    "    part_len=15\n",
    ")"
   ]
  },
  {
   "cell_type": "markdown",
   "metadata": {},
   "source": [
    "# Posty"
   ]
  },
  {
   "cell_type": "code",
   "execution_count": 3,
   "metadata": {},
   "outputs": [
    {
     "name": "stdout",
     "output_type": "stream",
     "text": [
      "Zaczynamy!\n"
     ]
    },
    {
     "name": "stderr",
     "output_type": "stream",
     "text": [
      "100%|██████████| 15/15 [00:25<00:00,  1.46s/it]\n",
      "100%|██████████| 15/15 [00:05<00:00,  1.72it/s]\n",
      "100%|██████████| 15/15 [00:08<00:00,  2.18it/s]\n",
      "100%|██████████| 15/15 [00:06<00:00,  1.72it/s]\n",
      "100%|██████████| 15/15 [00:17<00:00,  1.31s/it]\n",
      "100%|██████████| 15/15 [00:13<00:00,  1.50s/it]\n",
      "100%|██████████| 15/15 [00:10<00:00,  1.21it/s]\n",
      "100%|██████████| 15/15 [00:14<00:00,  1.04it/s]\n",
      "100%|██████████| 15/15 [00:03<00:00,  4.16it/s]\n",
      "100%|██████████| 15/15 [00:03<00:00,  2.72it/s]\n",
      "100%|██████████| 15/15 [00:04<00:00,  3.43it/s]\n",
      "100%|██████████| 15/15 [00:45<00:00,  5.11s/it]\n",
      "100%|██████████| 15/15 [00:12<00:00,  1.16it/s]\n",
      "100%|██████████| 15/15 [00:12<00:00,  1.35it/s]\n",
      "100%|██████████| 15/15 [00:12<00:00,  1.70it/s]\n",
      "100%|██████████| 15/15 [00:03<00:00,  4.97it/s]\n",
      "100%|██████████| 15/15 [00:20<00:00,  1.05s/it]\n",
      "100%|██████████| 15/15 [00:16<00:00,  1.43it/s]\n",
      "100%|██████████| 15/15 [00:32<00:00,  3.83s/it]\n",
      "100%|██████████| 15/15 [00:17<00:00,  1.09it/s]\n",
      "100%|██████████| 15/15 [00:28<00:00,  1.96s/it]\n",
      "100%|██████████| 15/15 [00:10<00:00,  1.79it/s]\n",
      "100%|██████████| 8/8 [00:03<00:00,  2.77it/s]\n"
     ]
    },
    {
     "name": "stdout",
     "output_type": "stream",
     "text": [
      "Gotowe! Zajęło nam to: 508.0s\n"
     ]
    }
   ],
   "source": [
    "posts = wczytaj_main(\n",
    "    input_path=\"/media/ola/Elements SE/dane_gotowe/\",\n",
    "    typ_pliku=\"Posts\",\n",
    "    kolumny = ['Id', 'PostTypeId', 'AcceptedAnswerId', 'ParentId', 'CreationDate', 'OwnerUserId', 'LastEditorUserId', 'Title'],\n",
    "    part_len=15\n",
    ")"
   ]
  },
  {
   "cell_type": "code",
   "execution_count": 6,
   "metadata": {},
   "outputs": [],
   "source": [
    "posts1 = posts.dropna(subset = ['AcceptedAnswerId'])"
   ]
  },
  {
   "cell_type": "code",
   "execution_count": 7,
   "metadata": {},
   "outputs": [
    {
     "name": "stderr",
     "output_type": "stream",
     "text": [
      "/home/ola/anaconda3/lib/python3.7/site-packages/pandas/core/generic.py:4405: SettingWithCopyWarning: \n",
      "A value is trying to be set on a copy of a slice from a DataFrame.\n",
      "Try using .loc[row_indexer,col_indexer] = value instead\n",
      "\n",
      "See the caveats in the documentation: http://pandas.pydata.org/pandas-docs/stable/indexing.html#indexing-view-versus-copy\n",
      "  self[name] = value\n"
     ]
    }
   ],
   "source": [
    "posts1.OwnerUserId = posts1.OwnerUserId.astype(float)\n",
    "posts.OwnerUserId = posts.OwnerUserId.astype(float)\n",
    "posts1.AcceptedAnswerId = posts1.AcceptedAnswerId.astype(float)\n",
    "posts.Id = posts.Id.astype(float)\n",
    "users.Id = users.Id.astype(float)\n",
    "#type(posts1.OwnerUserId.iloc[1])"
   ]
  },
  {
   "cell_type": "code",
   "execution_count": 8,
   "metadata": {},
   "outputs": [],
   "source": [
    "gdzie_ile_zamknal = posts1.query(\"OwnerUserId != -1.0\")#.groupby([\"OwnerUserId\",\"Forum\"]).size().rename(\"Count\").reset_index()"
   ]
  },
  {
   "cell_type": "code",
   "execution_count": 9,
   "metadata": {},
   "outputs": [],
   "source": [
    "Pytania_zamkniete = pd.merge(gdzie_ile_zamknal, posts.loc[:,[\"Id\", \"Forum\",\"OwnerUserId\"]], left_on = [\"AcceptedAnswerId\",\"Forum\"], right_on = [\"Id\",\"Forum\"] )"
   ]
  },
  {
   "cell_type": "code",
   "execution_count": 10,
   "metadata": {},
   "outputs": [],
   "source": [
    "gdzie_ile_zamknal = Pytania_zamkniete.query(\"OwnerUserId_x != -1.0 and OwnerUserId_y != -1.0\")"
   ]
  },
  {
   "cell_type": "code",
   "execution_count": 11,
   "metadata": {},
   "outputs": [],
   "source": [
    "gdzie_zamknal_konta = pd.merge(gdzie_ile_zamknal, users.loc[:,[\"Id\",\"Forum\",\"AccountId\"]], left_on= [\"OwnerUserId_y\",\"Forum\"], right_on = [\"Id\", \"Forum\"])"
   ]
  },
  {
   "cell_type": "code",
   "execution_count": 12,
   "metadata": {},
   "outputs": [],
   "source": [
    "ekspert = gdzie_zamknal_konta.groupby(\"AccountId\").size().rename(\"Count\").reset_index().sort_values(\"Count\",ascending = False).head(1)"
   ]
  },
  {
   "cell_type": "code",
   "execution_count": 13,
   "metadata": {},
   "outputs": [],
   "source": [
    "konta_eksperta = users.query(\"AccountId == 513966\").reset_index()\n",
    "posty_eksperta = pd.merge(konta_eksperta.loc[:,[\"Id\",\"DisplayName\",\"AccountId\",\"Forum\"]], posts.loc[:,[\"Id\",\"PostTypeId\",\"OwnerUserId\",\"Forum\"]], left_on = [\"Id\",\"Forum\"], right_on = [\"OwnerUserId\", \"Forum\"])\n",
    "#info_ekspert = pd.merge(ekspert, users, on = \"AccountId\")"
   ]
  },
  {
   "cell_type": "code",
   "execution_count": 14,
   "metadata": {},
   "outputs": [],
   "source": [
    "stat_ekspert = posty_eksperta.groupby([\"Forum\",\"PostTypeId\"]).size().rename(\"odp i pyt\").reset_index().sort_values(\"odp i pyt\", ascending = False)"
   ]
  },
  {
   "cell_type": "code",
   "execution_count": 16,
   "metadata": {},
   "outputs": [],
   "source": [
    "wykres =  stat_ekspert.query(\"Forum in ['tex','math','italian','codereview','english'] and PostTypeId in [1,2]\") # to jest też typek, który najwiecej napisał postów! same odpowiedzi, żadnych pytań ! łoł łoł !\n"
   ]
  },
  {
   "cell_type": "code",
   "execution_count": 18,
   "metadata": {},
   "outputs": [],
   "source": [
    "wykres.to_csv(\"Ekspert\")"
   ]
  },
  {
   "cell_type": "code",
   "execution_count": 2,
   "metadata": {},
   "outputs": [],
   "source": [
    "wykres = pd.read_csv(\"dane/Ekspert\")"
   ]
  },
  {
   "cell_type": "code",
   "execution_count": 6,
   "metadata": {},
   "outputs": [
    {
     "data": {
      "image/png": "[encoded data removed]",
      "text/plain": [
       "<Figure size 1152x432 with 1 Axes>"
      ]
     },
     "metadata": {
      "needs_background": "light"
     },
     "output_type": "display_data"
    }
   ],
   "source": [
    "\n",
    "plt.figure(figsize=[16,6], dpi=72)\n",
    "n = len(wykres.Forum)\n",
    "plt.bar(wykres.Forum, wykres.loc[:,\"odp i pyt\"], color = ['gold','silver','blue', 'pink', 'brown'],\n",
    "       edgecolor=['indianred','navy', 'hotpink', 'orange','darkred']\n",
    "       )\n",
    "\n",
    "for i in range(len(wykres.Forum)):\n",
    "    plt.text(x=i, y=wykres.loc[:,\"odp i pyt\"].iloc[i]+40, s=wykres.loc[:,\"odp i pyt\"].iloc[i], size = 23,horizontalalignment='center') \n",
    "plt.xticks(size = 25)\n",
    "plt.savefig('ekspert.png', dpi = 400)\n",
    "plt.show()"
   ]
  },
  {
   "cell_type": "code",
   "execution_count": 4,
   "metadata": {},
   "outputs": [],
   "source": [
    "Mareczek = users.query(\"DisplayName=='gagolews'\")\n"
   ]
  },
  {
   "cell_type": "code",
   "execution_count": 19,
   "metadata": {},
   "outputs": [],
   "source": [
    "Fora = users.groupby('AccountId').size().rename('ilosc_forów').reset_index().sort_values(\"ilosc_forów\", ascending = False).head(30).reset_index()\n"
   ]
  },
  {
   "cell_type": "code",
   "execution_count": 4,
   "metadata": {},
   "outputs": [],
   "source": [
    "kto_jakie_posty = pd.merge( left=users,right=posts, left_on=[\"Forum\", \"Id\"], right_on = [\"Forum\", \"OwnerUserId\"])"
   ]
  },
  {
   "cell_type": "code",
   "execution_count": 5,
   "metadata": {},
   "outputs": [],
   "source": [
    "Liczba_postow_kazdej_osoby = kto_jakie_posty.groupby(['AccountId']).size().rename('tyle_postow').reset_index().iloc[1:]"
   ]
  },
  {
   "cell_type": "code",
   "execution_count": 6,
   "metadata": {},
   "outputs": [],
   "source": [
    "data1 = users.loc[users.AccountId.isin(Liczba_postow_kazdej_osoby.AccountId)].groupby('AccountId').size().rename('ilosc_forow').reset_index()"
   ]
  },
  {
   "cell_type": "code",
   "execution_count": 7,
   "metadata": {},
   "outputs": [],
   "source": [
    "data2 = data1.loc[1:]"
   ]
  },
  {
   "cell_type": "code",
   "execution_count": null,
   "metadata": {},
   "outputs": [],
   "source": [
    "users.AccountId = users.AccountId.astype(float)"
   ]
  },
  {
   "cell_type": "code",
   "execution_count": 8,
   "metadata": {},
   "outputs": [],
   "source": [
    "Zaleznosc = pd.merge(data2, Liczba_postow_kazdej_osoby, on = 'AccountId').sort_values('ilosc_forow')"
   ]
  },
  {
   "cell_type": "code",
   "execution_count": 11,
   "metadata": {},
   "outputs": [],
   "source": [
    "Zaleznosc.to_csv(\"Zaleznosc-fora-posty\")"
   ]
  },
  {
   "cell_type": "code",
   "execution_count": 9,
   "metadata": {},
   "outputs": [],
   "source": [
    "%matplotlib inline"
   ]
  },
  {
   "cell_type": "code",
   "execution_count": 10,
   "metadata": {},
   "outputs": [
    {
     "data": {
      "image/png": "[encoded data removed]",
      "text/plain": [
       "<Figure size 864x576 with 1 Axes>"
      ]
     },
     "metadata": {},
     "output_type": "display_data"
    }
   ],
   "source": [
    "#%config InlineBackend.figure_format = 'svg'\n",
    "plt.rcParams[\"figure.figsize\"] = (12, 8)\n",
    "plt.style.use('seaborn-whitegrid')\n",
    "plt.plot(Zaleznosc.ilosc_forow, Zaleznosc.tyle_postow, 'ro', alpha = 0.15)\n",
    "plt.xlabel('ilosc_forow')\n",
    "plt.ylabel('ilosc_postow')\n",
    "plt.savefig('actv_vs_size.png')"
   ]
  },
  {
   "cell_type": "code",
   "execution_count": 86,
   "metadata": {},
   "outputs": [],
   "source": [
    "Zaleznosc2 = pd.merge(data2, Liczba_postow_kazdej_osoby, on = 'AccountId').sort_values('tyle_postow', ascending = False).head(500)"
   ]
  },
  {
   "cell_type": "code",
   "execution_count": 14,
   "metadata": {},
   "outputs": [
    {
     "data": {
      "text/html": [
       "<div>\n",
       "<style scoped>\n",
       "    .dataframe tbody tr th:only-of-type {\n",
       "        vertical-align: middle;\n",
       "    }\n",
       "\n",
       "    .dataframe tbody tr th {\n",
       "        vertical-align: top;\n",
       "    }\n",
       "\n",
       "    .dataframe thead th {\n",
       "        text-align: right;\n",
       "    }\n",
       "</style>\n",
       "<table border=\"1\" class=\"dataframe\">\n",
       "  <thead>\n",
       "    <tr style=\"text-align: right;\">\n",
       "      <th></th>\n",
       "      <th>AccountId</th>\n",
       "      <th>ilosc_forow</th>\n",
       "      <th>tyle_postow</th>\n",
       "    </tr>\n",
       "  </thead>\n",
       "  <tbody>\n",
       "    <tr>\n",
       "      <th>147599</th>\n",
       "      <td>513966.0</td>\n",
       "      <td>13</td>\n",
       "      <td>24683</td>\n",
       "    </tr>\n",
       "    <tr>\n",
       "      <th>63502</th>\n",
       "      <td>164368.0</td>\n",
       "      <td>321</td>\n",
       "      <td>14482</td>\n",
       "    </tr>\n",
       "    <tr>\n",
       "      <th>146292</th>\n",
       "      <td>512076.0</td>\n",
       "      <td>8</td>\n",
       "      <td>13908</td>\n",
       "    </tr>\n",
       "    <tr>\n",
       "      <th>145440</th>\n",
       "      <td>510889.0</td>\n",
       "      <td>9</td>\n",
       "      <td>13608</td>\n",
       "    </tr>\n",
       "    <tr>\n",
       "      <th>131728</th>\n",
       "      <td>470318.0</td>\n",
       "      <td>88</td>\n",
       "      <td>12926</td>\n",
       "    </tr>\n",
       "    <tr>\n",
       "      <th>668060</th>\n",
       "      <td>3487601.0</td>\n",
       "      <td>5</td>\n",
       "      <td>11571</td>\n",
       "    </tr>\n",
       "    <tr>\n",
       "      <th>145719</th>\n",
       "      <td>511285.0</td>\n",
       "      <td>6</td>\n",
       "      <td>11392</td>\n",
       "    </tr>\n",
       "    <tr>\n",
       "      <th>394239</th>\n",
       "      <td>1919584.0</td>\n",
       "      <td>5</td>\n",
       "      <td>10082</td>\n",
       "    </tr>\n",
       "    <tr>\n",
       "      <th>372404</th>\n",
       "      <td>1801709.0</td>\n",
       "      <td>108</td>\n",
       "      <td>9585</td>\n",
       "    </tr>\n",
       "    <tr>\n",
       "      <th>178868</th>\n",
       "      <td>845543.0</td>\n",
       "      <td>9</td>\n",
       "      <td>9246</td>\n",
       "    </tr>\n",
       "    <tr>\n",
       "      <th>319743</th>\n",
       "      <td>1530368.0</td>\n",
       "      <td>21</td>\n",
       "      <td>9162</td>\n",
       "    </tr>\n",
       "    <tr>\n",
       "      <th>499482</th>\n",
       "      <td>2492462.0</td>\n",
       "      <td>12</td>\n",
       "      <td>8689</td>\n",
       "    </tr>\n",
       "    <tr>\n",
       "      <th>144725</th>\n",
       "      <td>510067.0</td>\n",
       "      <td>50</td>\n",
       "      <td>7858</td>\n",
       "    </tr>\n",
       "    <tr>\n",
       "      <th>147733</th>\n",
       "      <td>514155.0</td>\n",
       "      <td>41</td>\n",
       "      <td>7370</td>\n",
       "    </tr>\n",
       "    <tr>\n",
       "      <th>309881</th>\n",
       "      <td>1483321.0</td>\n",
       "      <td>5</td>\n",
       "      <td>7283</td>\n",
       "    </tr>\n",
       "    <tr>\n",
       "      <th>153623</th>\n",
       "      <td>526068.0</td>\n",
       "      <td>23</td>\n",
       "      <td>7151</td>\n",
       "    </tr>\n",
       "    <tr>\n",
       "      <th>713717</th>\n",
       "      <td>3776439.0</td>\n",
       "      <td>104</td>\n",
       "      <td>7132</td>\n",
       "    </tr>\n",
       "    <tr>\n",
       "      <th>491556</th>\n",
       "      <td>2445234.0</td>\n",
       "      <td>106</td>\n",
       "      <td>7087</td>\n",
       "    </tr>\n",
       "    <tr>\n",
       "      <th>258965</th>\n",
       "      <td>1232228.0</td>\n",
       "      <td>26</td>\n",
       "      <td>6779</td>\n",
       "    </tr>\n",
       "    <tr>\n",
       "      <th>144460</th>\n",
       "      <td>509631.0</td>\n",
       "      <td>29</td>\n",
       "      <td>6778</td>\n",
       "    </tr>\n",
       "    <tr>\n",
       "      <th>144855</th>\n",
       "      <td>510256.0</td>\n",
       "      <td>3</td>\n",
       "      <td>6635</td>\n",
       "    </tr>\n",
       "    <tr>\n",
       "      <th>726325</th>\n",
       "      <td>3852387.0</td>\n",
       "      <td>72</td>\n",
       "      <td>6629</td>\n",
       "    </tr>\n",
       "    <tr>\n",
       "      <th>81066</th>\n",
       "      <td>233926.0</td>\n",
       "      <td>54</td>\n",
       "      <td>6445</td>\n",
       "    </tr>\n",
       "    <tr>\n",
       "      <th>564666</th>\n",
       "      <td>2897650.0</td>\n",
       "      <td>23</td>\n",
       "      <td>6381</td>\n",
       "    </tr>\n",
       "    <tr>\n",
       "      <th>77391</th>\n",
       "      <td>218740.0</td>\n",
       "      <td>55</td>\n",
       "      <td>6327</td>\n",
       "    </tr>\n",
       "    <tr>\n",
       "      <th>146589</th>\n",
       "      <td>512484.0</td>\n",
       "      <td>10</td>\n",
       "      <td>6316</td>\n",
       "    </tr>\n",
       "    <tr>\n",
       "      <th>142810</th>\n",
       "      <td>506004.0</td>\n",
       "      <td>43</td>\n",
       "      <td>6251</td>\n",
       "    </tr>\n",
       "    <tr>\n",
       "      <th>132296</th>\n",
       "      <td>473127.0</td>\n",
       "      <td>78</td>\n",
       "      <td>6226</td>\n",
       "    </tr>\n",
       "    <tr>\n",
       "      <th>144931</th>\n",
       "      <td>510339.0</td>\n",
       "      <td>4</td>\n",
       "      <td>6145</td>\n",
       "    </tr>\n",
       "    <tr>\n",
       "      <th>38320</th>\n",
       "      <td>77792.0</td>\n",
       "      <td>79</td>\n",
       "      <td>6074</td>\n",
       "    </tr>\n",
       "    <tr>\n",
       "      <th>...</th>\n",
       "      <td>...</td>\n",
       "      <td>...</td>\n",
       "      <td>...</td>\n",
       "    </tr>\n",
       "    <tr>\n",
       "      <th>134726</th>\n",
       "      <td>484995.0</td>\n",
       "      <td>86</td>\n",
       "      <td>1763</td>\n",
       "    </tr>\n",
       "    <tr>\n",
       "      <th>214601</th>\n",
       "      <td>1017597.0</td>\n",
       "      <td>112</td>\n",
       "      <td>1762</td>\n",
       "    </tr>\n",
       "    <tr>\n",
       "      <th>143399</th>\n",
       "      <td>507794.0</td>\n",
       "      <td>9</td>\n",
       "      <td>1761</td>\n",
       "    </tr>\n",
       "    <tr>\n",
       "      <th>142833</th>\n",
       "      <td>506467.0</td>\n",
       "      <td>32</td>\n",
       "      <td>1760</td>\n",
       "    </tr>\n",
       "    <tr>\n",
       "      <th>71710</th>\n",
       "      <td>195980.0</td>\n",
       "      <td>60</td>\n",
       "      <td>1756</td>\n",
       "    </tr>\n",
       "    <tr>\n",
       "      <th>91987</th>\n",
       "      <td>281536.0</td>\n",
       "      <td>83</td>\n",
       "      <td>1753</td>\n",
       "    </tr>\n",
       "    <tr>\n",
       "      <th>4922</th>\n",
       "      <td>7892.0</td>\n",
       "      <td>38</td>\n",
       "      <td>1750</td>\n",
       "    </tr>\n",
       "    <tr>\n",
       "      <th>1227458</th>\n",
       "      <td>7081997.0</td>\n",
       "      <td>5</td>\n",
       "      <td>1749</td>\n",
       "    </tr>\n",
       "    <tr>\n",
       "      <th>225833</th>\n",
       "      <td>1070830.0</td>\n",
       "      <td>12</td>\n",
       "      <td>1748</td>\n",
       "    </tr>\n",
       "    <tr>\n",
       "      <th>975147</th>\n",
       "      <td>5471272.0</td>\n",
       "      <td>130</td>\n",
       "      <td>1746</td>\n",
       "    </tr>\n",
       "    <tr>\n",
       "      <th>462063</th>\n",
       "      <td>2278931.0</td>\n",
       "      <td>6</td>\n",
       "      <td>1746</td>\n",
       "    </tr>\n",
       "    <tr>\n",
       "      <th>985449</th>\n",
       "      <td>5538226.0</td>\n",
       "      <td>62</td>\n",
       "      <td>1741</td>\n",
       "    </tr>\n",
       "    <tr>\n",
       "      <th>714999</th>\n",
       "      <td>3784213.0</td>\n",
       "      <td>39</td>\n",
       "      <td>1736</td>\n",
       "    </tr>\n",
       "    <tr>\n",
       "      <th>146024</th>\n",
       "      <td>511715.0</td>\n",
       "      <td>27</td>\n",
       "      <td>1735</td>\n",
       "    </tr>\n",
       "    <tr>\n",
       "      <th>63287</th>\n",
       "      <td>163592.0</td>\n",
       "      <td>43</td>\n",
       "      <td>1734</td>\n",
       "    </tr>\n",
       "    <tr>\n",
       "      <th>207161</th>\n",
       "      <td>983532.0</td>\n",
       "      <td>18</td>\n",
       "      <td>1733</td>\n",
       "    </tr>\n",
       "    <tr>\n",
       "      <th>266912</th>\n",
       "      <td>1271782.0</td>\n",
       "      <td>51</td>\n",
       "      <td>1732</td>\n",
       "    </tr>\n",
       "    <tr>\n",
       "      <th>519308</th>\n",
       "      <td>2614901.0</td>\n",
       "      <td>75</td>\n",
       "      <td>1728</td>\n",
       "    </tr>\n",
       "    <tr>\n",
       "      <th>360800</th>\n",
       "      <td>1739979.0</td>\n",
       "      <td>201</td>\n",
       "      <td>1725</td>\n",
       "    </tr>\n",
       "    <tr>\n",
       "      <th>596762</th>\n",
       "      <td>3052665.0</td>\n",
       "      <td>13</td>\n",
       "      <td>1723</td>\n",
       "    </tr>\n",
       "    <tr>\n",
       "      <th>574249</th>\n",
       "      <td>2945945.0</td>\n",
       "      <td>22</td>\n",
       "      <td>1722</td>\n",
       "    </tr>\n",
       "    <tr>\n",
       "      <th>490101</th>\n",
       "      <td>2437491.0</td>\n",
       "      <td>312</td>\n",
       "      <td>1718</td>\n",
       "    </tr>\n",
       "    <tr>\n",
       "      <th>143778</th>\n",
       "      <td>508412.0</td>\n",
       "      <td>39</td>\n",
       "      <td>1716</td>\n",
       "    </tr>\n",
       "    <tr>\n",
       "      <th>142671</th>\n",
       "      <td>505076.0</td>\n",
       "      <td>6</td>\n",
       "      <td>1712</td>\n",
       "    </tr>\n",
       "    <tr>\n",
       "      <th>287252</th>\n",
       "      <td>1373414.0</td>\n",
       "      <td>39</td>\n",
       "      <td>1708</td>\n",
       "    </tr>\n",
       "    <tr>\n",
       "      <th>650546</th>\n",
       "      <td>3379621.0</td>\n",
       "      <td>6</td>\n",
       "      <td>1707</td>\n",
       "    </tr>\n",
       "    <tr>\n",
       "      <th>570784</th>\n",
       "      <td>2936584.0</td>\n",
       "      <td>16</td>\n",
       "      <td>1695</td>\n",
       "    </tr>\n",
       "    <tr>\n",
       "      <th>994263</th>\n",
       "      <td>5595470.0</td>\n",
       "      <td>46</td>\n",
       "      <td>1695</td>\n",
       "    </tr>\n",
       "    <tr>\n",
       "      <th>10946</th>\n",
       "      <td>19908.0</td>\n",
       "      <td>55</td>\n",
       "      <td>1693</td>\n",
       "    </tr>\n",
       "    <tr>\n",
       "      <th>29415</th>\n",
       "      <td>55507.0</td>\n",
       "      <td>79</td>\n",
       "      <td>1692</td>\n",
       "    </tr>\n",
       "  </tbody>\n",
       "</table>\n",
       "<p>500 rows × 3 columns</p>\n",
       "</div>"
      ],
      "text/plain": [
       "         AccountId  ilosc_forow  tyle_postow\n",
       "147599    513966.0           13        24683\n",
       "63502     164368.0          321        14482\n",
       "146292    512076.0            8        13908\n",
       "145440    510889.0            9        13608\n",
       "131728    470318.0           88        12926\n",
       "668060   3487601.0            5        11571\n",
       "145719    511285.0            6        11392\n",
       "394239   1919584.0            5        10082\n",
       "372404   1801709.0          108         9585\n",
       "178868    845543.0            9         9246\n",
       "319743   1530368.0           21         9162\n",
       "499482   2492462.0           12         8689\n",
       "144725    510067.0           50         7858\n",
       "147733    514155.0           41         7370\n",
       "309881   1483321.0            5         7283\n",
       "153623    526068.0           23         7151\n",
       "713717   3776439.0          104         7132\n",
       "491556   2445234.0          106         7087\n",
       "258965   1232228.0           26         6779\n",
       "144460    509631.0           29         6778\n",
       "144855    510256.0            3         6635\n",
       "726325   3852387.0           72         6629\n",
       "81066     233926.0           54         6445\n",
       "564666   2897650.0           23         6381\n",
       "77391     218740.0           55         6327\n",
       "146589    512484.0           10         6316\n",
       "142810    506004.0           43         6251\n",
       "132296    473127.0           78         6226\n",
       "144931    510339.0            4         6145\n",
       "38320      77792.0           79         6074\n",
       "...            ...          ...          ...\n",
       "134726    484995.0           86         1763\n",
       "214601   1017597.0          112         1762\n",
       "143399    507794.0            9         1761\n",
       "142833    506467.0           32         1760\n",
       "71710     195980.0           60         1756\n",
       "91987     281536.0           83         1753\n",
       "4922        7892.0           38         1750\n",
       "1227458  7081997.0            5         1749\n",
       "225833   1070830.0           12         1748\n",
       "975147   5471272.0          130         1746\n",
       "462063   2278931.0            6         1746\n",
       "985449   5538226.0           62         1741\n",
       "714999   3784213.0           39         1736\n",
       "146024    511715.0           27         1735\n",
       "63287     163592.0           43         1734\n",
       "207161    983532.0           18         1733\n",
       "266912   1271782.0           51         1732\n",
       "519308   2614901.0           75         1728\n",
       "360800   1739979.0          201         1725\n",
       "596762   3052665.0           13         1723\n",
       "574249   2945945.0           22         1722\n",
       "490101   2437491.0          312         1718\n",
       "143778    508412.0           39         1716\n",
       "142671    505076.0            6         1712\n",
       "287252   1373414.0           39         1708\n",
       "650546   3379621.0            6         1707\n",
       "570784   2936584.0           16         1695\n",
       "994263   5595470.0           46         1695\n",
       "10946      19908.0           55         1693\n",
       "29415      55507.0           79         1692\n",
       "\n",
       "[500 rows x 3 columns]"
      ]
     },
     "execution_count": 14,
     "metadata": {},
     "output_type": "execute_result"
    }
   ],
   "source": [
    "Zaleznosc2 #wszyscy którzy maja wiecej postow niz 10 000"
   ]
  },
  {
   "cell_type": "code",
   "execution_count": 15,
   "metadata": {},
   "outputs": [
    {
     "data": {
      "text/html": [
       "<iframe id=\"igraph\" scrolling=\"no\" style=\"border:none;\" seamless=\"seamless\" src=\"https://plot.ly/~aleksandramiesiac/12.embed\" height=\"525px\" width=\"100%\"></iframe>"
      ],
      "text/plain": [
       "<plotly.tools.PlotlyDisplay object>"
      ]
     },
     "execution_count": 15,
     "metadata": {},
     "output_type": "execute_result"
    }
   ],
   "source": [
    "import plotly.plotly as py\n",
    "import plotly.graph_objs as go\n",
    "import numpy as np\n",
    "\n",
    "\n",
    "trace = go.Scattergl(\n",
    "    x = Zaleznosc2.ilosc_forow,\n",
    "    y = Zaleznosc2.tyle_postow,\n",
    "    mode = 'markers',\n",
    "    marker = dict(\n",
    "        color = '#FFBAD2',\n",
    "        line = dict(width = 1)\n",
    "    )\n",
    ")\n",
    "data = [trace]\n",
    "py.iplot(data, filename='compare_webgl')\n"
   ]
  },
  {
   "cell_type": "code",
   "execution_count": 104,
   "metadata": {},
   "outputs": [],
   "source": [
    "top100 = Zaleznosc2.head(100)"
   ]
  },
  {
   "cell_type": "code",
   "execution_count": 143,
   "metadata": {},
   "outputs": [
    {
     "data": {
      "text/html": [
       "<iframe id=\"igraph\" scrolling=\"no\" style=\"border:none;\" seamless=\"seamless\" src=\"https://plot.ly/~aleksandramiesiac/12.embed\" height=\"525px\" width=\"100%\"></iframe>"
      ],
      "text/plain": [
       "<plotly.tools.PlotlyDisplay object>"
      ]
     },
     "execution_count": 143,
     "metadata": {},
     "output_type": "execute_result"
    }
   ],
   "source": [
    "import plotly.plotly as py\n",
    "import plotly.graph_objs as go\n",
    "import numpy as np\n",
    "import plotly.io as pio\n",
    "\n",
    "trace = go.Scattergl(\n",
    "    x = top100.AccountId,\n",
    "    y = top100.tyle_postow,\n",
    "    mode = 'markers',\n",
    "    marker = dict(\n",
    "        color = '#FFBAD2',\n",
    "        line = dict(width = 1)\n",
    "    )\n",
    ")\n",
    "data = [trace]\n",
    "\n",
    "\n",
    "\n",
    "fig = dict(data=data)\n",
    "py.iplot(fig,filename='compare_webgl')\n",
    "\n",
    "\n",
    "#pio.write_image(fig, 'top100.png')\n",
    "\n",
    "\n"
   ]
  },
  {
   "cell_type": "code",
   "execution_count": 87,
   "metadata": {},
   "outputs": [],
   "source": [
    "ilosc_postow_w_forum = kto_jakie_posty.loc[kto_jakie_posty.AccountId.isin(Zaleznosc2.AccountId)].groupby(['AccountId','Forum']).size().rename('Count').reset_index()"
   ]
  },
  {
   "cell_type": "code",
   "execution_count": 98,
   "metadata": {},
   "outputs": [],
   "source": [
    "ludek1AccountId = Zaleznosc2.query(\"tyle_postow == 24683\").AccountId.iloc[0]\n",
    "ludek1 = ilosc_postow_w_forum.loc[ilosc_postow_w_forum.AccountId==ludek1AccountId,['Forum','Count']].\\\n",
    "query(\"Forum in ['tex','math','italian','codereview','english']\").sort_values(\"Count\", ascending = False)\n"
   ]
  },
  {
   "cell_type": "code",
   "execution_count": 125,
   "metadata": {},
   "outputs": [],
   "source": [
    "from pandas_to_markdown import pd_to_markdown"
   ]
  },
  {
   "cell_type": "code",
   "execution_count": 126,
   "metadata": {},
   "outputs": [
    {
     "name": "stdout",
     "output_type": "stream",
     "text": [
      "| Forum      | Count |\n",
      "|------------|-------|\n",
      "| tex        | 17325 |\n",
      "| math       | 7098  |\n",
      "| italian    | 180   |\n",
      "| codereview | 4     |\n",
      "| english    | 1     |\n"
     ]
    }
   ],
   "source": [
    "pd_to_markdown(ludek1)"
   ]
  },
  {
   "cell_type": "code",
   "execution_count": null,
   "metadata": {},
   "outputs": [],
   "source": []
  },
  {
   "cell_type": "code",
   "execution_count": 99,
   "metadata": {},
   "outputs": [
    {
     "data": {
      "text/html": [
       "<div>\n",
       "<style scoped>\n",
       "    .dataframe tbody tr th:only-of-type {\n",
       "        vertical-align: middle;\n",
       "    }\n",
       "\n",
       "    .dataframe tbody tr th {\n",
       "        vertical-align: top;\n",
       "    }\n",
       "\n",
       "    .dataframe thead th {\n",
       "        text-align: right;\n",
       "    }\n",
       "</style>\n",
       "<table border=\"1\" class=\"dataframe\">\n",
       "  <thead>\n",
       "    <tr style=\"text-align: right;\">\n",
       "      <th></th>\n",
       "      <th>Forum</th>\n",
       "      <th>Count</th>\n",
       "    </tr>\n",
       "  </thead>\n",
       "  <tbody>\n",
       "    <tr>\n",
       "      <th>6392</th>\n",
       "      <td>tex</td>\n",
       "      <td>17325</td>\n",
       "    </tr>\n",
       "    <tr>\n",
       "      <th>6390</th>\n",
       "      <td>math</td>\n",
       "      <td>7098</td>\n",
       "    </tr>\n",
       "    <tr>\n",
       "      <th>6388</th>\n",
       "      <td>italian</td>\n",
       "      <td>180</td>\n",
       "    </tr>\n",
       "    <tr>\n",
       "      <th>6386</th>\n",
       "      <td>codereview</td>\n",
       "      <td>4</td>\n",
       "    </tr>\n",
       "    <tr>\n",
       "      <th>6387</th>\n",
       "      <td>english</td>\n",
       "      <td>1</td>\n",
       "    </tr>\n",
       "  </tbody>\n",
       "</table>\n",
       "</div>"
      ],
      "text/plain": [
       "           Forum  Count\n",
       "6392         tex  17325\n",
       "6390        math   7098\n",
       "6388     italian    180\n",
       "6386  codereview      4\n",
       "6387     english      1"
      ]
     },
     "execution_count": 99,
     "metadata": {},
     "output_type": "execute_result"
    }
   ],
   "source": [
    "ludek1"
   ]
  },
  {
   "cell_type": "code",
   "execution_count": 101,
   "metadata": {},
   "outputs": [
    {
     "data": {
      "image/png": "[encoded data removed]",
      "text/plain": [
       "<Figure size 1152x576 with 1 Axes>"
      ]
     },
     "metadata": {
      "needs_background": "light"
     },
     "output_type": "display_data"
    }
   ],
   "source": [
    "plt.rcParams[\"figure.figsize\"] = (16, 8)\n",
    "n = len(ludek1.Forum)\n",
    "plt.bar(ludek1.Forum, ludek1.Count, color = [ 'yellow','brown','silver','gold','green'],\n",
    "       edgecolor=['orange','darkred','gray','goldenrod','darkgreen']\n",
    "       )\n",
    "\n",
    "for i in range(len(ludek1.Forum)):\n",
    "    plt.text(x=i, y=ludek1.Count.iloc[i]+40, s=ludek1.Count.iloc[i], size = 17,horizontalalignment='center') \n",
    "plt.show()"
   ]
  },
  {
   "cell_type": "code",
   "execution_count": null,
   "metadata": {},
   "outputs": [],
   "source": []
  },
  {
   "cell_type": "code",
   "execution_count": null,
   "metadata": {},
   "outputs": [],
   "source": []
  },
  {
   "cell_type": "code",
   "execution_count": null,
   "metadata": {},
   "outputs": [],
   "source": []
  },
  {
   "cell_type": "markdown",
   "metadata": {},
   "source": [
    "## Coś o ukrainie, polityka a dostępność ludzi na forum? - nic nie znalazłam takiego, ale znalazłam coś innego :)"
   ]
  },
  {
   "cell_type": "code",
   "execution_count": 12,
   "metadata": {},
   "outputs": [],
   "source": [
    "ukrainian_Users = pd.read_csv(\"/media/ola/Elements SE/dane_gotowe/ukrainian_Users.csv\")\n",
    "ukrainian_Posts = pd.read_csv(\"/media/ola/Elements SE/dane_gotowe/ukrainian_Posts.csv\")"
   ]
  },
  {
   "cell_type": "code",
   "execution_count": 13,
   "metadata": {},
   "outputs": [],
   "source": [
    "Aktywnosc = ukrainian_Posts.loc[:,[\"Id\",\"PostTypeId\",\"OwnerUserId\"]].assign(Year=pd.to_datetime(ukrainian_Posts['CreationDate']).dt.year).\\\n",
    "assign(Month=pd.to_datetime(ukrainian_Posts['CreationDate']).dt.month).assign(Day=pd.to_datetime(ukrainian_Posts['CreationDate']).dt.day).\\\n",
    "                groupby([\"Year\", \"Month\",\"Day\"]).size().rename(\"Count\").reset_index()\n",
    "Pytania_i_odpowiedzi = ukrainian_Posts.loc[:,[\"Id\",\"PostTypeId\",\"OwnerUserId\"]].assign(Year=pd.to_datetime(ukrainian_Posts['CreationDate']).dt.year).\\\n",
    "assign(Month=pd.to_datetime(ukrainian_Posts['CreationDate']).dt.month).assign(Day=pd.to_datetime(ukrainian_Posts['CreationDate']).dt.day).\\\n",
    "                groupby([\"Year\", \"Month\",\"Day\",\"PostTypeId\"]).size().rename(\"Count\").reset_index()"
   ]
  },
  {
   "cell_type": "code",
   "execution_count": 14,
   "metadata": {},
   "outputs": [],
   "source": [
    "Pytania_i_odpowiedzi['Data'] = pd.to_datetime(Pytania_i_odpowiedzi[['Year','Month','Day']])\n",
    "Aktywnosc['Data'] = pd.to_datetime(Aktywnosc[['Year','Month','Day']])\n"
   ]
  },
  {
   "cell_type": "code",
   "execution_count": 15,
   "metadata": {},
   "outputs": [],
   "source": [
    "data4 = ukrainian_Posts.assign(Year=pd.to_datetime(ukrainian_Posts['CreationDate']).dt.year).\\\n",
    "assign(Month=pd.to_datetime(ukrainian_Posts['CreationDate']).dt.month).assign(Day=pd.to_datetime(ukrainian_Posts['CreationDate']).dt.day).\\\n",
    "loc[:,[\"Id\",\"PostTypeId\",\"ViewCount\",\"Body\",\"OwnerUserId\",\"Title\",'AnswerCount','CommentCount','Year','Month','Day']]\n",
    "data4['Data'] = pd.to_datetime(data4[['Year','Month','Day']])\n",
    "data5 = data4.loc[:,[\"Id\",\"PostTypeId\",\"ViewCount\",\"Body\",\"OwnerUserId\",\"Title\",'AnswerCount','CommentCount','Data']]"
   ]
  },
  {
   "cell_type": "code",
   "execution_count": 16,
   "metadata": {},
   "outputs": [
    {
     "data": {
      "text/html": [
       "<div>\n",
       "<style scoped>\n",
       "    .dataframe tbody tr th:only-of-type {\n",
       "        vertical-align: middle;\n",
       "    }\n",
       "\n",
       "    .dataframe tbody tr th {\n",
       "        vertical-align: top;\n",
       "    }\n",
       "\n",
       "    .dataframe thead th {\n",
       "        text-align: right;\n",
       "    }\n",
       "</style>\n",
       "<table border=\"1\" class=\"dataframe\">\n",
       "  <thead>\n",
       "    <tr style=\"text-align: right;\">\n",
       "      <th></th>\n",
       "      <th>OwnerUserId</th>\n",
       "      <th>Count</th>\n",
       "    </tr>\n",
       "  </thead>\n",
       "  <tbody>\n",
       "    <tr>\n",
       "      <th>1</th>\n",
       "      <td>4.0</td>\n",
       "      <td>337</td>\n",
       "    </tr>\n",
       "    <tr>\n",
       "      <th>277</th>\n",
       "      <td>1505.0</td>\n",
       "      <td>280</td>\n",
       "    </tr>\n",
       "    <tr>\n",
       "      <th>258</th>\n",
       "      <td>1467.0</td>\n",
       "      <td>244</td>\n",
       "    </tr>\n",
       "    <tr>\n",
       "      <th>3</th>\n",
       "      <td>8.0</td>\n",
       "      <td>244</td>\n",
       "    </tr>\n",
       "  </tbody>\n",
       "</table>\n",
       "</div>"
      ],
      "text/plain": [
       "     OwnerUserId  Count\n",
       "1            4.0    337\n",
       "277       1505.0    280\n",
       "258       1467.0    244\n",
       "3            8.0    244"
      ]
     },
     "execution_count": 16,
     "metadata": {},
     "output_type": "execute_result"
    }
   ],
   "source": [
    "data5.groupby('OwnerUserId').size().rename('Count').reset_index().sort_values('Count', ascending = False).head(4)"
   ]
  },
  {
   "cell_type": "code",
   "execution_count": 17,
   "metadata": {},
   "outputs": [],
   "source": [
    "data6=data5.query(\"OwnerUserId== 8.0\").groupby(\"Data\").size().rename(\"Count\").reset_index()"
   ]
  },
  {
   "cell_type": "code",
   "execution_count": 18,
   "metadata": {},
   "outputs": [],
   "source": [
    "data7 = data5.query(\"OwnerUserId == 4.0\").groupby('Data').size().rename(\"Count\").reset_index().sort_values('Data')"
   ]
  },
  {
   "cell_type": "code",
   "execution_count": 19,
   "metadata": {},
   "outputs": [],
   "source": [
    "data8 = data5.query(\"OwnerUserId == 1505.0\").groupby('Data').size().rename(\"Count\").reset_index().sort_values('Data')"
   ]
  },
  {
   "cell_type": "code",
   "execution_count": 20,
   "metadata": {},
   "outputs": [],
   "source": [
    "data9 = data5.query(\"OwnerUserId == 1467.0\").groupby('Data').size().rename(\"Count\").reset_index().sort_values('Data')"
   ]
  },
  {
   "cell_type": "markdown",
   "metadata": {},
   "source": [
    "## Zależność zależnosći 4 osób najbardziej aktywnych"
   ]
  },
  {
   "cell_type": "code",
   "execution_count": 21,
   "metadata": {},
   "outputs": [],
   "source": [
    "Aktywnosc.to_csv(\"Aktywnosc_zbiorcza\")\n",
    "data6.to_csv(\"Aktyw1\")\n",
    "data7.to_csv(\"Aktyw2\")\n",
    "data8.to_csv(\"Aktyw3\")\n",
    "data9.to_csv(\"Aktyw4\")"
   ]
  },
  {
   "cell_type": "code",
   "execution_count": 155,
   "metadata": {},
   "outputs": [
    {
     "data": {
      "text/html": [
       "<iframe id=\"igraph\" scrolling=\"no\" style=\"border:none;\" seamless=\"seamless\" src=\"https://plot.ly/~aleksandramiesiac/22.embed\" height=\"525px\" width=\"100%\"></iframe>"
      ],
      "text/plain": [
       "<plotly.tools.PlotlyDisplay object>"
      ]
     },
     "execution_count": 155,
     "metadata": {},
     "output_type": "execute_result"
    }
   ],
   "source": [
    "data1 = [\n",
    "    go.Scatter(\n",
    "    x = data7.Data, \n",
    "    y = data7.Count, \n",
    "    name = 'OwnerUserId = 4'),\n",
    "    go.Scatter(\n",
    "    x = data6.Data,\n",
    "    y = data6.Count,\n",
    "    name = 'OwnerUserId = 8'\n",
    "    ),\n",
    "    go.Scatter(\n",
    "    x = data8.Data, \n",
    "    y = data8.Count, \n",
    "    name = 'OwnerUserId = 1505'),\n",
    "    go.Scatter(\n",
    "    x = data9.Data,\n",
    "    y = data9.Count,\n",
    "    name = 'OwnerUserId = 1467'\n",
    "    )\n",
    "]\n",
    "py.iplot(data1, filename='pandas-line-naming-traces')"
   ]
  },
  {
   "cell_type": "markdown",
   "metadata": {},
   "source": [
    "# Zbiorcza aktywność ludzi na ukraińskim forum"
   ]
  },
  {
   "cell_type": "code",
   "execution_count": 166,
   "metadata": {},
   "outputs": [
    {
     "name": "stdout",
     "output_type": "stream",
     "text": [
      "This is the format of your plot grid:\n",
      "[ (1,1) x1,y1 ]\n",
      "[ (2,1) x1,y2 ]\n",
      "\n"
     ]
    },
    {
     "data": {
      "text/html": [
       "<iframe id=\"igraph\" scrolling=\"no\" style=\"border:none;\" seamless=\"seamless\" src=\"https://plot.ly/~aleksandramiesiac/36.embed\" height=\"525px\" width=\"100%\"></iframe>"
      ],
      "text/plain": [
       "<plotly.tools.PlotlyDisplay object>"
      ]
     },
     "execution_count": 166,
     "metadata": {},
     "output_type": "execute_result"
    }
   ],
   "source": [
    "from plotly import tools\n",
    "trace1 = go.Scatter(x=list(Aktywnosc.Data),\n",
    "                   y=list(Aktywnosc.Count), name = 'Aktywność wspólna')\n",
    "#data1 = [\n",
    "trace2 =     go.Scatter(\n",
    "    x = data7.Data, \n",
    "    y = data7.Count, \n",
    "    name = 'OwnerUserId = 4')\n",
    "trace3 = go.Scatter(\n",
    "    x = data6.Data,\n",
    "    y = data6.Count,\n",
    "    name = 'OwnerUserId = 8'\n",
    "    )\n",
    "trace4=     go.Scatter(\n",
    "    x = data8.Data, \n",
    "    y = data8.Count, \n",
    "    name = 'OwnerUserId = 1505')\n",
    "trace5 =    go.Scatter(\n",
    "    x = data9.Data,\n",
    "    y = data9.Count,\n",
    "    name = 'OwnerUserId = 1467'\n",
    "    )\n",
    "\n",
    "\n",
    "#data = [trace1,trace2,trace3,trace4,trace5]\n",
    "\n",
    "fig = tools.make_subplots(rows=2, cols=1, specs=[[{}], [{}]],\n",
    "                          shared_xaxes=True, shared_yaxes=True,\n",
    "                          vertical_spacing=0.001)\n",
    "fig.append_trace(trace1, 1, 1)\n",
    "fig.append_trace(trace2, 2, 1)\n",
    "fig.append_trace(trace3, 2, 1)\n",
    "fig.append_trace(trace4, 2, 1)\n",
    "fig.append_trace(trace5, 2, 1)\n",
    "\n",
    "#fig = dict(data=data, layout=layout)\n",
    "pio.write_image(fig, 'funkcje/ukraina.png')\n",
    "py.iplot(fig, filename='stacked-subplots-shared-xaxes')"
   ]
  },
  {
   "cell_type": "markdown",
   "metadata": {},
   "source": [
    "## Wniosek? 4 osóby robią prawie całą aktywność"
   ]
  },
  {
   "cell_type": "markdown",
   "metadata": {},
   "source": [
    "# Kurs bit coina a aktywnośc na kryptowalutach"
   ]
  },
  {
   "cell_type": "markdown",
   "metadata": {},
   "source": [
    "## Załadowanie danych o kursie bitcoina"
   ]
  },
  {
   "cell_type": "code",
   "execution_count": 167,
   "metadata": {},
   "outputs": [],
   "source": [
    "bit_kurs =pd.read_csv(\"/media/ola/Elements SE/dane_dodatkowe/market-price.csv\")\n",
    "#ukrainian_Badges = pd.read_csv(\"/media/ola/Elements SE/dane_gotowe/ukrainian_Badges.csv\")"
   ]
  },
  {
   "cell_type": "code",
   "execution_count": 168,
   "metadata": {},
   "outputs": [],
   "source": [
    "bit_kurs = bit_kurs.rename(columns={\"2009-01-03 00:00:00\":\"Data\",\"0.0\":\"Kurs\"})\n",
    "dane_bitcoin = bit_kurs.assign(Year=pd.to_datetime(bit_kurs['Data']).dt.year).query(\"Year >= 2011\")"
   ]
  },
  {
   "cell_type": "markdown",
   "metadata": {},
   "source": [
    "# Załadowanie danych o bitcoinie ze stackexchange"
   ]
  },
  {
   "cell_type": "code",
   "execution_count": 22,
   "metadata": {},
   "outputs": [],
   "source": [
    "bitcoin_Posts = pd.read_csv(\"/media/ola/Elements SE/dane_gotowe/bitcoin_Posts.csv\")"
   ]
  },
  {
   "cell_type": "code",
   "execution_count": 23,
   "metadata": {},
   "outputs": [],
   "source": [
    "stackbitcoin = bitcoin_Posts.assign(Year=pd.to_datetime(bitcoin_Posts['CreationDate']).dt.year, Month=pd.to_datetime(bitcoin_Posts['CreationDate']).\\\n",
    "                     dt.month,Day=pd.to_datetime(bitcoin_Posts['CreationDate']).dt.day).query(\"OwnerUserId != -1\").groupby(['Year','Month','Day']).size().rename('Count').reset_index()"
   ]
  },
  {
   "cell_type": "code",
   "execution_count": 24,
   "metadata": {},
   "outputs": [],
   "source": [
    "stackbitcoin['Data'] = pd.to_datetime(stackbitcoin[['Year','Month','Day']])"
   ]
  },
  {
   "cell_type": "code",
   "execution_count": 25,
   "metadata": {},
   "outputs": [],
   "source": [
    "stackbitcoin.to_csv(\"bitcoin_stack\")"
   ]
  },
  {
   "cell_type": "code",
   "execution_count": 179,
   "metadata": {},
   "outputs": [
    {
     "data": {
      "text/html": [
       "<iframe id=\"igraph\" scrolling=\"no\" style=\"border:none;\" seamless=\"seamless\" src=\"https://plot.ly/~aleksandramiesiac/26.embed\" height=\"525px\" width=\"100%\"></iframe>"
      ],
      "text/plain": [
       "<plotly.tools.PlotlyDisplay object>"
      ]
     },
     "execution_count": 179,
     "metadata": {},
     "output_type": "execute_result"
    }
   ],
   "source": [
    "\n",
    "trace1 =go.Scatter(\n",
    "        x = stackbitcoin.Data, \n",
    "        y = stackbitcoin.Count, \n",
    "        name = 'Aktywnosc', \n",
    "        line = dict(color='rgb(148, 103, 189)',\n",
    "                   width = 1)\n",
    ")\n",
    "\n",
    "trace2 = go.Scatter(\n",
    "        x = dane_bitcoin.Data,\n",
    "        y = dane_bitcoin.Kurs,\n",
    "        name = 'Kurs',\n",
    "        yaxis='y2',\n",
    "        line = dict(width = 3)\n",
    "        )\n",
    "\n",
    "data2 = [trace1,trace2]\n",
    "layout = go.Layout(\n",
    "    title='Course Bitcoin vs Activity',\n",
    "    yaxis=dict(\n",
    "        title='Activity',\n",
    "        titlefont = dict(color='orangered')\n",
    "    ),\n",
    "    yaxis2=dict(\n",
    "        title='Course',\n",
    "        titlefont=dict(\n",
    "            color='rgb(148, 103, 189)'\n",
    "        ),\n",
    "        overlaying='y',\n",
    "        side='right'\n",
    "    )\n",
    ")\n",
    "fig = go.Figure(data=data2, layout=layout)\n",
    "pio.write_image(fig, 'funkcje/bitcoin.png')\n",
    "py.iplot(fig, filename='kurs-vs-activity')"
   ]
  },
  {
   "cell_type": "markdown",
   "metadata": {},
   "source": [
    "# Aktywność na Gardening a sezony - jakaś zależność?"
   ]
  },
  {
   "cell_type": "code",
   "execution_count": 26,
   "metadata": {},
   "outputs": [],
   "source": [
    "gar_pos = pd.read_csv(\"/media/ola/Elements SE/dane_gotowe/gardening_Posts.csv\")"
   ]
  },
  {
   "cell_type": "code",
   "execution_count": 27,
   "metadata": {},
   "outputs": [],
   "source": [
    "active = gar_pos.assign(Year=pd.to_datetime(gar_pos['CreationDate']).dt.year, Month=pd.to_datetime(gar_pos['CreationDate']).\\\n",
    "                     dt.month,Day=pd.to_datetime(gar_pos['CreationDate']).dt.day).query(\"OwnerUserId != -1\").groupby(['Year','Month','Day']).size().rename('Count').reset_index()"
   ]
  },
  {
   "cell_type": "code",
   "execution_count": 28,
   "metadata": {},
   "outputs": [],
   "source": [
    "active['Data'] = pd.to_datetime(active[['Year','Month','Day']])"
   ]
  },
  {
   "cell_type": "code",
   "execution_count": 29,
   "metadata": {},
   "outputs": [],
   "source": [
    "active.to_csv(\"Aktywnosc_gardening\")"
   ]
  },
  {
   "cell_type": "code",
   "execution_count": 178,
   "metadata": {},
   "outputs": [
    {
     "data": {
      "text/html": [
       "<iframe id=\"igraph\" scrolling=\"no\" style=\"border:none;\" seamless=\"seamless\" src=\"https://plot.ly/~aleksandramiesiac/30.embed\" height=\"525px\" width=\"100%\"></iframe>"
      ],
      "text/plain": [
       "<plotly.tools.PlotlyDisplay object>"
      ]
     },
     "execution_count": 178,
     "metadata": {},
     "output_type": "execute_result"
    }
   ],
   "source": [
    "trace1 =go.Scatter(\n",
    "        x = active.Data, \n",
    "        y = active.Count, \n",
    "        name = 'Aktywnosc', \n",
    "        line = dict(color='rgb(148, 103, 189)',\n",
    "                   width = 1)\n",
    ")\n",
    "layout = {\n",
    "    # to highlight the timestamp we use shapes and create a rectangular\n",
    "    'shapes': [\n",
    "        # 1st highlight during Feb 4 - Feb 6\n",
    "        {\n",
    "            'type': 'rect','xref': 'x','yref': 'paper','x0': '2011-05-01','y0': 0,'x1': '2011-10-01','y1': 1,'fillcolor': '#d3d3d3','opacity': 0.2,'line': {'width': 0,}},\n",
    "        {\n",
    "            'type': 'rect','xref': 'x','yref': 'paper','x0': '2012-05-01','y0': 0,'x1': '2012-10-01','y1': 1,'fillcolor': '#d3d3d3','opacity': 0.2,'line': {'width': 0,}},\n",
    "        {\n",
    "            'type': 'rect','xref': 'x','yref': 'paper','x0': '2013-05-01','y0': 0,'x1': '2013-10-01','y1': 1,'fillcolor': '#d3d3d3','opacity': 0.2,'line': {'width': 0,}},\n",
    "        {\n",
    "            'type': 'rect','xref': 'x','yref': 'paper','x0': '2014-05-01','y0': 0,'x1': '2014-10-01','y1': 1,'fillcolor': '#d3d3d3','opacity': 0.2,'line': {'width': 0,}},\n",
    "        {\n",
    "            'type': 'rect','xref': 'x','yref': 'paper','x0': '2015-05-01','y0': 0,'x1': '2015-10-01','y1': 1,'fillcolor': '#d3d3d3','opacity': 0.2,'line': {'width': 0,}},\n",
    "        {\n",
    "            'type': 'rect','xref': 'x','yref': 'paper','x0': '2016-05-01','y0': 0,'x1': '2016-10-01','y1': 1,'fillcolor': '#d3d3d3','opacity': 0.2,'line': {'width': 0,}},\n",
    "        {\n",
    "            'type': 'rect','xref': 'x','yref': 'paper','x0': '2017-05-01','y0': 0,'x1': '2017-10-01','y1': 1,'fillcolor': '#d3d3d3','opacity': 0.2,'line': {'width': 0,}},   \n",
    "        {\n",
    "            'type': 'rect','xref': 'x','yref': 'paper','x0': '2018-05-01','y0': 0,'x1': '2018-10-01','y1': 1,'fillcolor': '#d3d3d3','opacity': 0.2,'line': {'width': 0,}}\n",
    "    ]\n",
    "}\n",
    "data3 = [trace1]\n",
    "pio.write_image({'data':data3, 'layout':layout}, 'funkcje/garden.png')\n",
    "py.iplot({'data':data3, 'layout':layout}, filename='Gardening-Activity')\n"
   ]
  },
  {
   "cell_type": "markdown",
   "metadata": {},
   "source": [
    "Zaznaczyłam sezony rolnicze  no i fajnie widać zależność, że przed sezonem ludzie piszą i początek sezonu - poem mają dużo pracy, więc nie mają czasu, a w zime jest mała dość aktywność, to się zgadza z rzeczywistością :)"
   ]
  },
  {
   "cell_type": "markdown",
   "metadata": {},
   "source": [
    "# Plotly"
   ]
  },
  {
   "cell_type": "code",
   "execution_count": 26,
   "metadata": {},
   "outputs": [],
   "source": [
    "import plotly \n",
    "plotly.tools.set_credentials_file(username='aleksandramiesiac', api_key='klaMDSOdIcIVScwKfzXU')"
   ]
  }
 ],
 "metadata": {
  "kernelspec": {
   "display_name": "Python 3",
   "language": "python",
   "name": "python3"
  },
  "language_info": {
   "codemirror_mode": {
    "name": "ipython",
    "version": 3
   },
   "file_extension": ".py",
   "mimetype": "text/x-python",
   "name": "python",
   "nbconvert_exporter": "python",
   "pygments_lexer": "ipython3",
   "version": "3.7.2"
  }
 },
 "nbformat": 4,
 "nbformat_minor": 2
}
