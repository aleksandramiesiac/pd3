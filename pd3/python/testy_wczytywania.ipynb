{
 "cells": [
  {
   "cell_type": "code",
   "execution_count": 1,
   "metadata": {},
   "outputs": [],
   "source": [
    "import pandas as pd\n",
    "import numpy as np\n",
    "from funkcje.main_05_wczytanie_csv import wczytaj_main\n",
    "import matplotlib.pyplot as plt\n",
    "import seaborn as sns\n",
    "import random"
   ]
  },
  {
   "cell_type": "markdown",
   "metadata": {},
   "source": [
    "# Users"
   ]
  },
  {
   "cell_type": "code",
   "execution_count": 2,
   "metadata": {},
   "outputs": [
    {
     "name": "stdout",
     "output_type": "stream",
     "text": [
      "Zaczynamy!\n"
     ]
    },
    {
     "name": "stderr",
     "output_type": "stream",
     "text": [
      "100%|██████████| 15/15 [00:08<00:00,  1.63it/s]\n",
      "100%|██████████| 15/15 [00:01<00:00,  7.75it/s]\n",
      "100%|██████████| 15/15 [00:02<00:00,  4.72it/s]\n",
      "100%|██████████| 15/15 [00:01<00:00, 11.95it/s]\n",
      "100%|██████████| 15/15 [00:03<00:00,  3.25it/s]\n",
      "100%|██████████| 15/15 [00:03<00:00,  2.43it/s]\n",
      "100%|██████████| 15/15 [00:01<00:00,  6.74it/s]\n",
      "100%|██████████| 15/15 [00:03<00:00,  2.69it/s]\n",
      "100%|██████████| 15/15 [00:01<00:00, 11.56it/s]\n",
      "100%|██████████| 15/15 [00:01<00:00, 12.56it/s]\n",
      "100%|██████████| 15/15 [00:00<00:00, 17.30it/s]\n",
      "100%|██████████| 15/15 [00:05<00:00,  1.94it/s]\n",
      "100%|██████████| 15/15 [00:02<00:00,  4.12it/s]\n",
      "100%|██████████| 15/15 [00:02<00:00,  3.58it/s]\n",
      "100%|██████████| 15/15 [00:01<00:00,  6.96it/s]\n",
      "100%|██████████| 15/15 [00:01<00:00, 10.14it/s]\n",
      "100%|██████████| 15/15 [00:03<00:00,  2.21it/s]\n",
      "100%|██████████| 15/15 [00:03<00:00,  3.14it/s]\n",
      "100%|██████████| 15/15 [00:07<00:00,  1.02it/s]\n",
      "100%|██████████| 15/15 [00:02<00:00,  4.02it/s]\n",
      "100%|██████████| 15/15 [00:04<00:00,  2.16it/s]\n",
      "100%|██████████| 15/15 [00:01<00:00,  6.62it/s]\n",
      "100%|██████████| 8/8 [00:01<00:00,  4.94it/s]\n"
     ]
    },
    {
     "name": "stdout",
     "output_type": "stream",
     "text": [
      "Gotowe! Zajęło nam to: 102.8s\n"
     ]
    }
   ],
   "source": [
    "users = wczytaj_main(\n",
    "    input_path=\"/media/ola/Elements SE/dane_gotowe/\",\n",
    "    typ_pliku=\"Users\",\n",
    "    kolumny=[\"AccountId\", \"DisplayName\", \"Id\"],\n",
    "    part_len=15\n",
    ")"
   ]
  },
  {
   "cell_type": "markdown",
   "metadata": {},
   "source": [
    "# Posty"
   ]
  },
  {
   "cell_type": "code",
   "execution_count": 3,
   "metadata": {},
   "outputs": [
    {
     "name": "stdout",
     "output_type": "stream",
     "text": [
      "Zaczynamy!\n"
     ]
    },
    {
     "name": "stderr",
     "output_type": "stream",
     "text": [
      "100%|██████████| 15/15 [00:12<00:00,  1.63it/s]\n",
      "100%|██████████| 15/15 [00:03<00:00,  3.68it/s]\n",
      "100%|██████████| 15/15 [00:05<00:00,  4.34it/s]\n",
      "100%|██████████| 15/15 [00:03<00:00,  3.59it/s]\n",
      "100%|██████████| 15/15 [00:10<00:00,  1.49it/s]\n",
      "100%|██████████| 15/15 [00:07<00:00,  1.30it/s]\n",
      "100%|██████████| 15/15 [00:06<00:00,  2.48it/s]\n",
      "100%|██████████| 15/15 [00:07<00:00,  2.39it/s]\n",
      "100%|██████████| 15/15 [00:02<00:00,  7.02it/s]\n",
      "100%|██████████| 15/15 [00:01<00:00,  7.56it/s]\n",
      "100%|██████████| 15/15 [00:02<00:00,  5.88it/s]\n",
      "100%|██████████| 15/15 [00:24<00:00,  2.59s/it]\n",
      "100%|██████████| 15/15 [00:07<00:00,  2.39it/s]\n",
      "100%|██████████| 15/15 [00:07<00:00,  2.44it/s]\n",
      "100%|██████████| 15/15 [00:06<00:00,  3.95it/s]\n",
      "100%|██████████| 15/15 [00:02<00:00,  7.45it/s]\n",
      "100%|██████████| 15/15 [00:11<00:00,  2.03it/s]\n",
      "100%|██████████| 15/15 [00:08<00:00,  3.35it/s]\n",
      "100%|██████████| 15/15 [00:19<00:00,  2.25s/it]\n",
      "100%|██████████| 15/15 [00:10<00:00,  2.25it/s]\n",
      "100%|██████████| 15/15 [00:17<00:00,  1.04s/it]\n",
      "100%|██████████| 15/15 [00:05<00:00,  3.86it/s]\n",
      "100%|██████████| 8/8 [00:01<00:00,  4.54it/s]\n"
     ]
    },
    {
     "name": "stdout",
     "output_type": "stream",
     "text": [
      "Gotowe! Zajęło nam to: 231.0s\n"
     ]
    }
   ],
   "source": [
    "posts = wczytaj_main(\n",
    "    input_path=\"/media/ola/Elements SE/dane_gotowe/\",\n",
    "    typ_pliku=\"Posts\",\n",
    "    kolumny=[\"Id\", \"OwnerUserId\"],\n",
    "    part_len=15\n",
    ")"
   ]
  },
  {
   "cell_type": "code",
   "execution_count": 4,
   "metadata": {},
   "outputs": [],
   "source": [
    "Mareczek = users.query(\"DisplayName=='gagolews'\")\n"
   ]
  },
  {
   "cell_type": "code",
   "execution_count": 4,
   "metadata": {},
   "outputs": [
    {
     "data": {
      "text/html": [
       "<div>\n",
       "<style scoped>\n",
       "    .dataframe tbody tr th:only-of-type {\n",
       "        vertical-align: middle;\n",
       "    }\n",
       "\n",
       "    .dataframe tbody tr th {\n",
       "        vertical-align: top;\n",
       "    }\n",
       "\n",
       "    .dataframe thead th {\n",
       "        text-align: right;\n",
       "    }\n",
       "</style>\n",
       "<table border=\"1\" class=\"dataframe\">\n",
       "  <thead>\n",
       "    <tr style=\"text-align: right;\">\n",
       "      <th></th>\n",
       "      <th>index</th>\n",
       "      <th>AccountId</th>\n",
       "      <th>ilosc_forów</th>\n",
       "    </tr>\n",
       "  </thead>\n",
       "  <tbody>\n",
       "    <tr>\n",
       "      <th>0</th>\n",
       "      <td>0</td>\n",
       "      <td>-1.0</td>\n",
       "      <td>338</td>\n",
       "    </tr>\n",
       "    <tr>\n",
       "      <th>1</th>\n",
       "      <td>49366</td>\n",
       "      <td>73323.0</td>\n",
       "      <td>337</td>\n",
       "    </tr>\n",
       "    <tr>\n",
       "      <th>2</th>\n",
       "      <td>26044</td>\n",
       "      <td>37099.0</td>\n",
       "      <td>337</td>\n",
       "    </tr>\n",
       "    <tr>\n",
       "      <th>3</th>\n",
       "      <td>1424160</td>\n",
       "      <td>5129611.0</td>\n",
       "      <td>336</td>\n",
       "    </tr>\n",
       "    <tr>\n",
       "      <th>4</th>\n",
       "      <td>132221</td>\n",
       "      <td>270038.0</td>\n",
       "      <td>336</td>\n",
       "    </tr>\n",
       "    <tr>\n",
       "      <th>5</th>\n",
       "      <td>1953362</td>\n",
       "      <td>7238091.0</td>\n",
       "      <td>336</td>\n",
       "    </tr>\n",
       "    <tr>\n",
       "      <th>6</th>\n",
       "      <td>1665161</td>\n",
       "      <td>6085540.0</td>\n",
       "      <td>336</td>\n",
       "    </tr>\n",
       "    <tr>\n",
       "      <th>7</th>\n",
       "      <td>1677033</td>\n",
       "      <td>6132527.0</td>\n",
       "      <td>336</td>\n",
       "    </tr>\n",
       "    <tr>\n",
       "      <th>8</th>\n",
       "      <td>2276963</td>\n",
       "      <td>8662386.0</td>\n",
       "      <td>336</td>\n",
       "    </tr>\n",
       "    <tr>\n",
       "      <th>9</th>\n",
       "      <td>1002947</td>\n",
       "      <td>3457374.0</td>\n",
       "      <td>336</td>\n",
       "    </tr>\n",
       "    <tr>\n",
       "      <th>10</th>\n",
       "      <td>201141</td>\n",
       "      <td>456872.0</td>\n",
       "      <td>335</td>\n",
       "    </tr>\n",
       "    <tr>\n",
       "      <th>11</th>\n",
       "      <td>964</td>\n",
       "      <td>1083.0</td>\n",
       "      <td>334</td>\n",
       "    </tr>\n",
       "    <tr>\n",
       "      <th>12</th>\n",
       "      <td>383874</td>\n",
       "      <td>1245478.0</td>\n",
       "      <td>334</td>\n",
       "    </tr>\n",
       "    <tr>\n",
       "      <th>13</th>\n",
       "      <td>559</td>\n",
       "      <td>620.0</td>\n",
       "      <td>334</td>\n",
       "    </tr>\n",
       "    <tr>\n",
       "      <th>14</th>\n",
       "      <td>1290046</td>\n",
       "      <td>4606062.0</td>\n",
       "      <td>334</td>\n",
       "    </tr>\n",
       "    <tr>\n",
       "      <th>15</th>\n",
       "      <td>3424475</td>\n",
       "      <td>12007967.0</td>\n",
       "      <td>334</td>\n",
       "    </tr>\n",
       "    <tr>\n",
       "      <th>16</th>\n",
       "      <td>24486</td>\n",
       "      <td>34933.0</td>\n",
       "      <td>334</td>\n",
       "    </tr>\n",
       "    <tr>\n",
       "      <th>17</th>\n",
       "      <td>2168516</td>\n",
       "      <td>8181207.0</td>\n",
       "      <td>333</td>\n",
       "    </tr>\n",
       "    <tr>\n",
       "      <th>18</th>\n",
       "      <td>1303395</td>\n",
       "      <td>4657998.0</td>\n",
       "      <td>333</td>\n",
       "    </tr>\n",
       "    <tr>\n",
       "      <th>19</th>\n",
       "      <td>933573</td>\n",
       "      <td>3193304.0</td>\n",
       "      <td>333</td>\n",
       "    </tr>\n",
       "    <tr>\n",
       "      <th>20</th>\n",
       "      <td>1195980</td>\n",
       "      <td>4230755.0</td>\n",
       "      <td>332</td>\n",
       "    </tr>\n",
       "    <tr>\n",
       "      <th>21</th>\n",
       "      <td>441349</td>\n",
       "      <td>1435254.0</td>\n",
       "      <td>332</td>\n",
       "    </tr>\n",
       "    <tr>\n",
       "      <th>22</th>\n",
       "      <td>2396313</td>\n",
       "      <td>9176804.0</td>\n",
       "      <td>332</td>\n",
       "    </tr>\n",
       "    <tr>\n",
       "      <th>23</th>\n",
       "      <td>1545162</td>\n",
       "      <td>5612515.0</td>\n",
       "      <td>331</td>\n",
       "    </tr>\n",
       "    <tr>\n",
       "      <th>24</th>\n",
       "      <td>978006</td>\n",
       "      <td>3359942.0</td>\n",
       "      <td>330</td>\n",
       "    </tr>\n",
       "    <tr>\n",
       "      <th>25</th>\n",
       "      <td>203550</td>\n",
       "      <td>463168.0</td>\n",
       "      <td>329</td>\n",
       "    </tr>\n",
       "    <tr>\n",
       "      <th>26</th>\n",
       "      <td>1331212</td>\n",
       "      <td>4768421.0</td>\n",
       "      <td>329</td>\n",
       "    </tr>\n",
       "    <tr>\n",
       "      <th>27</th>\n",
       "      <td>2089052</td>\n",
       "      <td>7815822.0</td>\n",
       "      <td>328</td>\n",
       "    </tr>\n",
       "    <tr>\n",
       "      <th>28</th>\n",
       "      <td>625224</td>\n",
       "      <td>2058164.0</td>\n",
       "      <td>327</td>\n",
       "    </tr>\n",
       "    <tr>\n",
       "      <th>29</th>\n",
       "      <td>63703</td>\n",
       "      <td>102159.0</td>\n",
       "      <td>326</td>\n",
       "    </tr>\n",
       "  </tbody>\n",
       "</table>\n",
       "</div>"
      ],
      "text/plain": [
       "      index   AccountId  ilosc_forów\n",
       "0         0        -1.0          338\n",
       "1     49366     73323.0          337\n",
       "2     26044     37099.0          337\n",
       "3   1424160   5129611.0          336\n",
       "4    132221    270038.0          336\n",
       "5   1953362   7238091.0          336\n",
       "6   1665161   6085540.0          336\n",
       "7   1677033   6132527.0          336\n",
       "8   2276963   8662386.0          336\n",
       "9   1002947   3457374.0          336\n",
       "10   201141    456872.0          335\n",
       "11      964      1083.0          334\n",
       "12   383874   1245478.0          334\n",
       "13      559       620.0          334\n",
       "14  1290046   4606062.0          334\n",
       "15  3424475  12007967.0          334\n",
       "16    24486     34933.0          334\n",
       "17  2168516   8181207.0          333\n",
       "18  1303395   4657998.0          333\n",
       "19   933573   3193304.0          333\n",
       "20  1195980   4230755.0          332\n",
       "21   441349   1435254.0          332\n",
       "22  2396313   9176804.0          332\n",
       "23  1545162   5612515.0          331\n",
       "24   978006   3359942.0          330\n",
       "25   203550    463168.0          329\n",
       "26  1331212   4768421.0          329\n",
       "27  2089052   7815822.0          328\n",
       "28   625224   2058164.0          327\n",
       "29    63703    102159.0          326"
      ]
     },
     "execution_count": 4,
     "metadata": {},
     "output_type": "execute_result"
    }
   ],
   "source": [
    "Fora = users.groupby('AccountId').size().rename('ilosc_forów').reset_index().sort_values(\"ilosc_forów\", ascending = False).head(30).reset_index()\n",
    "Fora"
   ]
  },
  {
   "cell_type": "code",
   "execution_count": 5,
   "metadata": {},
   "outputs": [],
   "source": [
    "kto_jakie_posty = pd.merge( left=users,right=posts, left_on=[\"Forum\", \"Id\"], right_on = [\"Forum\", \"OwnerUserId\"])"
   ]
  },
  {
   "cell_type": "code",
   "execution_count": 6,
   "metadata": {},
   "outputs": [],
   "source": [
    "Liczba_postow_kazdej_osoby = kto_jakie_posty.groupby(['AccountId']).size().rename('tyle_postow').reset_index().iloc[1:]"
   ]
  },
  {
   "cell_type": "code",
   "execution_count": 7,
   "metadata": {},
   "outputs": [],
   "source": [
    "data1 = users.loc[users.AccountId.isin(Liczba_postow_kazdej_osoby.AccountId)].groupby('AccountId').size().rename('ilosc_forow').reset_index()"
   ]
  },
  {
   "cell_type": "code",
   "execution_count": 8,
   "metadata": {},
   "outputs": [],
   "source": [
    "data2 = data1.loc[1:]"
   ]
  },
  {
   "cell_type": "code",
   "execution_count": 9,
   "metadata": {},
   "outputs": [],
   "source": [
    "users.AccountId = users.AccountId.astype(float)"
   ]
  },
  {
   "cell_type": "code",
   "execution_count": 10,
   "metadata": {},
   "outputs": [],
   "source": [
    "Zaleznosc = pd.merge(data2, Liczba_postow_kazdej_osoby, on = 'AccountId').sort_values('ilosc_forow')"
   ]
  },
  {
   "cell_type": "code",
   "execution_count": 11,
   "metadata": {},
   "outputs": [],
   "source": [
    "%matplotlib inline"
   ]
  },
  {
   "cell_type": "code",
   "execution_count": 12,
   "metadata": {},
   "outputs": [
    {
     "data": {
      "text/plain": [
       "Text(0,0.5,'ilosc_postow')"
      ]
     },
     "execution_count": 12,
     "metadata": {},
     "output_type": "execute_result"
    },
    {
     "data": {
      "image/png": "[encoded data removed]",
      "text/plain": [
       "<Figure size 864x576 with 1 Axes>"
      ]
     },
     "metadata": {},
     "output_type": "display_data"
    }
   ],
   "source": [
    "#%config InlineBackend.figure_format = 'svg'\n",
    "plt.rcParams[\"figure.figsize\"] = (12, 8)\n",
    "plt.style.use('seaborn-whitegrid')\n",
    "plt.plot(Zaleznosc.ilosc_forow, Zaleznosc.tyle_postow, 'ro', alpha = 0.15)\n",
    "plt.xlabel('ilosc_forow')\n",
    "plt.ylabel('ilosc_postow')"
   ]
  },
  {
   "cell_type": "code",
   "execution_count": 13,
   "metadata": {},
   "outputs": [],
   "source": [
    "Zaleznosc2 = pd.merge(data2, Liczba_postow_kazdej_osoby, on = 'AccountId').sort_values('tyle_postow', ascending = False).head(500)"
   ]
  },
  {
   "cell_type": "code",
   "execution_count": 14,
   "metadata": {},
   "outputs": [
    {
     "data": {
      "text/html": [
       "<div>\n",
       "<style scoped>\n",
       "    .dataframe tbody tr th:only-of-type {\n",
       "        vertical-align: middle;\n",
       "    }\n",
       "\n",
       "    .dataframe tbody tr th {\n",
       "        vertical-align: top;\n",
       "    }\n",
       "\n",
       "    .dataframe thead th {\n",
       "        text-align: right;\n",
       "    }\n",
       "</style>\n",
       "<table border=\"1\" class=\"dataframe\">\n",
       "  <thead>\n",
       "    <tr style=\"text-align: right;\">\n",
       "      <th></th>\n",
       "      <th>AccountId</th>\n",
       "      <th>ilosc_forow</th>\n",
       "      <th>tyle_postow</th>\n",
       "    </tr>\n",
       "  </thead>\n",
       "  <tbody>\n",
       "    <tr>\n",
       "      <th>147599</th>\n",
       "      <td>513966.0</td>\n",
       "      <td>13</td>\n",
       "      <td>24683</td>\n",
       "    </tr>\n",
       "    <tr>\n",
       "      <th>63502</th>\n",
       "      <td>164368.0</td>\n",
       "      <td>321</td>\n",
       "      <td>14482</td>\n",
       "    </tr>\n",
       "    <tr>\n",
       "      <th>146292</th>\n",
       "      <td>512076.0</td>\n",
       "      <td>8</td>\n",
       "      <td>13908</td>\n",
       "    </tr>\n",
       "    <tr>\n",
       "      <th>145440</th>\n",
       "      <td>510889.0</td>\n",
       "      <td>9</td>\n",
       "      <td>13608</td>\n",
       "    </tr>\n",
       "    <tr>\n",
       "      <th>131728</th>\n",
       "      <td>470318.0</td>\n",
       "      <td>88</td>\n",
       "      <td>12926</td>\n",
       "    </tr>\n",
       "    <tr>\n",
       "      <th>668060</th>\n",
       "      <td>3487601.0</td>\n",
       "      <td>5</td>\n",
       "      <td>11571</td>\n",
       "    </tr>\n",
       "    <tr>\n",
       "      <th>145719</th>\n",
       "      <td>511285.0</td>\n",
       "      <td>6</td>\n",
       "      <td>11392</td>\n",
       "    </tr>\n",
       "    <tr>\n",
       "      <th>394239</th>\n",
       "      <td>1919584.0</td>\n",
       "      <td>5</td>\n",
       "      <td>10082</td>\n",
       "    </tr>\n",
       "    <tr>\n",
       "      <th>372404</th>\n",
       "      <td>1801709.0</td>\n",
       "      <td>108</td>\n",
       "      <td>9585</td>\n",
       "    </tr>\n",
       "    <tr>\n",
       "      <th>178868</th>\n",
       "      <td>845543.0</td>\n",
       "      <td>9</td>\n",
       "      <td>9246</td>\n",
       "    </tr>\n",
       "    <tr>\n",
       "      <th>319743</th>\n",
       "      <td>1530368.0</td>\n",
       "      <td>21</td>\n",
       "      <td>9162</td>\n",
       "    </tr>\n",
       "    <tr>\n",
       "      <th>499482</th>\n",
       "      <td>2492462.0</td>\n",
       "      <td>12</td>\n",
       "      <td>8689</td>\n",
       "    </tr>\n",
       "    <tr>\n",
       "      <th>144725</th>\n",
       "      <td>510067.0</td>\n",
       "      <td>50</td>\n",
       "      <td>7858</td>\n",
       "    </tr>\n",
       "    <tr>\n",
       "      <th>147733</th>\n",
       "      <td>514155.0</td>\n",
       "      <td>41</td>\n",
       "      <td>7370</td>\n",
       "    </tr>\n",
       "    <tr>\n",
       "      <th>309881</th>\n",
       "      <td>1483321.0</td>\n",
       "      <td>5</td>\n",
       "      <td>7283</td>\n",
       "    </tr>\n",
       "    <tr>\n",
       "      <th>153623</th>\n",
       "      <td>526068.0</td>\n",
       "      <td>23</td>\n",
       "      <td>7151</td>\n",
       "    </tr>\n",
       "    <tr>\n",
       "      <th>713717</th>\n",
       "      <td>3776439.0</td>\n",
       "      <td>104</td>\n",
       "      <td>7132</td>\n",
       "    </tr>\n",
       "    <tr>\n",
       "      <th>491556</th>\n",
       "      <td>2445234.0</td>\n",
       "      <td>106</td>\n",
       "      <td>7087</td>\n",
       "    </tr>\n",
       "    <tr>\n",
       "      <th>258965</th>\n",
       "      <td>1232228.0</td>\n",
       "      <td>26</td>\n",
       "      <td>6779</td>\n",
       "    </tr>\n",
       "    <tr>\n",
       "      <th>144460</th>\n",
       "      <td>509631.0</td>\n",
       "      <td>29</td>\n",
       "      <td>6778</td>\n",
       "    </tr>\n",
       "    <tr>\n",
       "      <th>144855</th>\n",
       "      <td>510256.0</td>\n",
       "      <td>3</td>\n",
       "      <td>6635</td>\n",
       "    </tr>\n",
       "    <tr>\n",
       "      <th>726325</th>\n",
       "      <td>3852387.0</td>\n",
       "      <td>72</td>\n",
       "      <td>6629</td>\n",
       "    </tr>\n",
       "    <tr>\n",
       "      <th>81066</th>\n",
       "      <td>233926.0</td>\n",
       "      <td>54</td>\n",
       "      <td>6445</td>\n",
       "    </tr>\n",
       "    <tr>\n",
       "      <th>564666</th>\n",
       "      <td>2897650.0</td>\n",
       "      <td>23</td>\n",
       "      <td>6381</td>\n",
       "    </tr>\n",
       "    <tr>\n",
       "      <th>77391</th>\n",
       "      <td>218740.0</td>\n",
       "      <td>55</td>\n",
       "      <td>6327</td>\n",
       "    </tr>\n",
       "    <tr>\n",
       "      <th>146589</th>\n",
       "      <td>512484.0</td>\n",
       "      <td>10</td>\n",
       "      <td>6316</td>\n",
       "    </tr>\n",
       "    <tr>\n",
       "      <th>142810</th>\n",
       "      <td>506004.0</td>\n",
       "      <td>43</td>\n",
       "      <td>6251</td>\n",
       "    </tr>\n",
       "    <tr>\n",
       "      <th>132296</th>\n",
       "      <td>473127.0</td>\n",
       "      <td>78</td>\n",
       "      <td>6226</td>\n",
       "    </tr>\n",
       "    <tr>\n",
       "      <th>144931</th>\n",
       "      <td>510339.0</td>\n",
       "      <td>4</td>\n",
       "      <td>6145</td>\n",
       "    </tr>\n",
       "    <tr>\n",
       "      <th>38320</th>\n",
       "      <td>77792.0</td>\n",
       "      <td>79</td>\n",
       "      <td>6074</td>\n",
       "    </tr>\n",
       "    <tr>\n",
       "      <th>...</th>\n",
       "      <td>...</td>\n",
       "      <td>...</td>\n",
       "      <td>...</td>\n",
       "    </tr>\n",
       "    <tr>\n",
       "      <th>134726</th>\n",
       "      <td>484995.0</td>\n",
       "      <td>86</td>\n",
       "      <td>1763</td>\n",
       "    </tr>\n",
       "    <tr>\n",
       "      <th>214601</th>\n",
       "      <td>1017597.0</td>\n",
       "      <td>112</td>\n",
       "      <td>1762</td>\n",
       "    </tr>\n",
       "    <tr>\n",
       "      <th>143399</th>\n",
       "      <td>507794.0</td>\n",
       "      <td>9</td>\n",
       "      <td>1761</td>\n",
       "    </tr>\n",
       "    <tr>\n",
       "      <th>142833</th>\n",
       "      <td>506467.0</td>\n",
       "      <td>32</td>\n",
       "      <td>1760</td>\n",
       "    </tr>\n",
       "    <tr>\n",
       "      <th>71710</th>\n",
       "      <td>195980.0</td>\n",
       "      <td>60</td>\n",
       "      <td>1756</td>\n",
       "    </tr>\n",
       "    <tr>\n",
       "      <th>91987</th>\n",
       "      <td>281536.0</td>\n",
       "      <td>83</td>\n",
       "      <td>1753</td>\n",
       "    </tr>\n",
       "    <tr>\n",
       "      <th>4922</th>\n",
       "      <td>7892.0</td>\n",
       "      <td>38</td>\n",
       "      <td>1750</td>\n",
       "    </tr>\n",
       "    <tr>\n",
       "      <th>1227458</th>\n",
       "      <td>7081997.0</td>\n",
       "      <td>5</td>\n",
       "      <td>1749</td>\n",
       "    </tr>\n",
       "    <tr>\n",
       "      <th>225833</th>\n",
       "      <td>1070830.0</td>\n",
       "      <td>12</td>\n",
       "      <td>1748</td>\n",
       "    </tr>\n",
       "    <tr>\n",
       "      <th>975147</th>\n",
       "      <td>5471272.0</td>\n",
       "      <td>130</td>\n",
       "      <td>1746</td>\n",
       "    </tr>\n",
       "    <tr>\n",
       "      <th>462063</th>\n",
       "      <td>2278931.0</td>\n",
       "      <td>6</td>\n",
       "      <td>1746</td>\n",
       "    </tr>\n",
       "    <tr>\n",
       "      <th>985449</th>\n",
       "      <td>5538226.0</td>\n",
       "      <td>62</td>\n",
       "      <td>1741</td>\n",
       "    </tr>\n",
       "    <tr>\n",
       "      <th>714999</th>\n",
       "      <td>3784213.0</td>\n",
       "      <td>39</td>\n",
       "      <td>1736</td>\n",
       "    </tr>\n",
       "    <tr>\n",
       "      <th>146024</th>\n",
       "      <td>511715.0</td>\n",
       "      <td>27</td>\n",
       "      <td>1735</td>\n",
       "    </tr>\n",
       "    <tr>\n",
       "      <th>63287</th>\n",
       "      <td>163592.0</td>\n",
       "      <td>43</td>\n",
       "      <td>1734</td>\n",
       "    </tr>\n",
       "    <tr>\n",
       "      <th>207161</th>\n",
       "      <td>983532.0</td>\n",
       "      <td>18</td>\n",
       "      <td>1733</td>\n",
       "    </tr>\n",
       "    <tr>\n",
       "      <th>266912</th>\n",
       "      <td>1271782.0</td>\n",
       "      <td>51</td>\n",
       "      <td>1732</td>\n",
       "    </tr>\n",
       "    <tr>\n",
       "      <th>519308</th>\n",
       "      <td>2614901.0</td>\n",
       "      <td>75</td>\n",
       "      <td>1728</td>\n",
       "    </tr>\n",
       "    <tr>\n",
       "      <th>360800</th>\n",
       "      <td>1739979.0</td>\n",
       "      <td>201</td>\n",
       "      <td>1725</td>\n",
       "    </tr>\n",
       "    <tr>\n",
       "      <th>596762</th>\n",
       "      <td>3052665.0</td>\n",
       "      <td>13</td>\n",
       "      <td>1723</td>\n",
       "    </tr>\n",
       "    <tr>\n",
       "      <th>574249</th>\n",
       "      <td>2945945.0</td>\n",
       "      <td>22</td>\n",
       "      <td>1722</td>\n",
       "    </tr>\n",
       "    <tr>\n",
       "      <th>490101</th>\n",
       "      <td>2437491.0</td>\n",
       "      <td>312</td>\n",
       "      <td>1718</td>\n",
       "    </tr>\n",
       "    <tr>\n",
       "      <th>143778</th>\n",
       "      <td>508412.0</td>\n",
       "      <td>39</td>\n",
       "      <td>1716</td>\n",
       "    </tr>\n",
       "    <tr>\n",
       "      <th>142671</th>\n",
       "      <td>505076.0</td>\n",
       "      <td>6</td>\n",
       "      <td>1712</td>\n",
       "    </tr>\n",
       "    <tr>\n",
       "      <th>287252</th>\n",
       "      <td>1373414.0</td>\n",
       "      <td>39</td>\n",
       "      <td>1708</td>\n",
       "    </tr>\n",
       "    <tr>\n",
       "      <th>650546</th>\n",
       "      <td>3379621.0</td>\n",
       "      <td>6</td>\n",
       "      <td>1707</td>\n",
       "    </tr>\n",
       "    <tr>\n",
       "      <th>570784</th>\n",
       "      <td>2936584.0</td>\n",
       "      <td>16</td>\n",
       "      <td>1695</td>\n",
       "    </tr>\n",
       "    <tr>\n",
       "      <th>994263</th>\n",
       "      <td>5595470.0</td>\n",
       "      <td>46</td>\n",
       "      <td>1695</td>\n",
       "    </tr>\n",
       "    <tr>\n",
       "      <th>10946</th>\n",
       "      <td>19908.0</td>\n",
       "      <td>55</td>\n",
       "      <td>1693</td>\n",
       "    </tr>\n",
       "    <tr>\n",
       "      <th>29415</th>\n",
       "      <td>55507.0</td>\n",
       "      <td>79</td>\n",
       "      <td>1692</td>\n",
       "    </tr>\n",
       "  </tbody>\n",
       "</table>\n",
       "<p>500 rows × 3 columns</p>\n",
       "</div>"
      ],
      "text/plain": [
       "         AccountId  ilosc_forow  tyle_postow\n",
       "147599    513966.0           13        24683\n",
       "63502     164368.0          321        14482\n",
       "146292    512076.0            8        13908\n",
       "145440    510889.0            9        13608\n",
       "131728    470318.0           88        12926\n",
       "668060   3487601.0            5        11571\n",
       "145719    511285.0            6        11392\n",
       "394239   1919584.0            5        10082\n",
       "372404   1801709.0          108         9585\n",
       "178868    845543.0            9         9246\n",
       "319743   1530368.0           21         9162\n",
       "499482   2492462.0           12         8689\n",
       "144725    510067.0           50         7858\n",
       "147733    514155.0           41         7370\n",
       "309881   1483321.0            5         7283\n",
       "153623    526068.0           23         7151\n",
       "713717   3776439.0          104         7132\n",
       "491556   2445234.0          106         7087\n",
       "258965   1232228.0           26         6779\n",
       "144460    509631.0           29         6778\n",
       "144855    510256.0            3         6635\n",
       "726325   3852387.0           72         6629\n",
       "81066     233926.0           54         6445\n",
       "564666   2897650.0           23         6381\n",
       "77391     218740.0           55         6327\n",
       "146589    512484.0           10         6316\n",
       "142810    506004.0           43         6251\n",
       "132296    473127.0           78         6226\n",
       "144931    510339.0            4         6145\n",
       "38320      77792.0           79         6074\n",
       "...            ...          ...          ...\n",
       "134726    484995.0           86         1763\n",
       "214601   1017597.0          112         1762\n",
       "143399    507794.0            9         1761\n",
       "142833    506467.0           32         1760\n",
       "71710     195980.0           60         1756\n",
       "91987     281536.0           83         1753\n",
       "4922        7892.0           38         1750\n",
       "1227458  7081997.0            5         1749\n",
       "225833   1070830.0           12         1748\n",
       "975147   5471272.0          130         1746\n",
       "462063   2278931.0            6         1746\n",
       "985449   5538226.0           62         1741\n",
       "714999   3784213.0           39         1736\n",
       "146024    511715.0           27         1735\n",
       "63287     163592.0           43         1734\n",
       "207161    983532.0           18         1733\n",
       "266912   1271782.0           51         1732\n",
       "519308   2614901.0           75         1728\n",
       "360800   1739979.0          201         1725\n",
       "596762   3052665.0           13         1723\n",
       "574249   2945945.0           22         1722\n",
       "490101   2437491.0          312         1718\n",
       "143778    508412.0           39         1716\n",
       "142671    505076.0            6         1712\n",
       "287252   1373414.0           39         1708\n",
       "650546   3379621.0            6         1707\n",
       "570784   2936584.0           16         1695\n",
       "994263   5595470.0           46         1695\n",
       "10946      19908.0           55         1693\n",
       "29415      55507.0           79         1692\n",
       "\n",
       "[500 rows x 3 columns]"
      ]
     },
     "execution_count": 14,
     "metadata": {},
     "output_type": "execute_result"
    }
   ],
   "source": [
    "Zaleznosc2 #wszyscy którzy maja wiecej postow niz 10 000"
   ]
  },
  {
   "cell_type": "code",
   "execution_count": 15,
   "metadata": {},
   "outputs": [
    {
     "data": {
      "text/html": [
       "<iframe id=\"igraph\" scrolling=\"no\" style=\"border:none;\" seamless=\"seamless\" src=\"https://plot.ly/~aleksandramiesiac/12.embed\" height=\"525px\" width=\"100%\"></iframe>"
      ],
      "text/plain": [
       "<plotly.tools.PlotlyDisplay object>"
      ]
     },
     "execution_count": 15,
     "metadata": {},
     "output_type": "execute_result"
    }
   ],
   "source": [
    "import plotly.plotly as py\n",
    "import plotly.graph_objs as go\n",
    "import numpy as np\n",
    "\n",
    "\n",
    "trace = go.Scattergl(\n",
    "    x = Zaleznosc2.ilosc_forow,\n",
    "    y = Zaleznosc2.tyle_postow,\n",
    "    mode = 'markers',\n",
    "    marker = dict(\n",
    "        color = '#FFBAD2',\n",
    "        line = dict(width = 1)\n",
    "    )\n",
    ")\n",
    "data = [trace]\n",
    "py.iplot(data, filename='compare_webgl')\n"
   ]
  },
  {
   "cell_type": "code",
   "execution_count": 16,
   "metadata": {},
   "outputs": [],
   "source": [
    "ilosc_postow_w_forum = kto_jakie_posty.loc[kto_jakie_posty.AccountId.isin(Zaleznosc2.AccountId)].groupby(['AccountId','Forum']).size().rename('Count').reset_index()"
   ]
  },
  {
   "cell_type": "code",
   "execution_count": 17,
   "metadata": {},
   "outputs": [],
   "source": [
    "ludek1AccountId = Zaleznosc2.query(\"tyle_postow == 24683\").AccountId.iloc[0]\n",
    "ludek1 = ilosc_postow_w_forum.loc[ilosc_postow_w_forum.AccountId==ludek1AccountId,['Forum','Count']]"
   ]
  },
  {
   "cell_type": "code",
   "execution_count": 18,
   "metadata": {},
   "outputs": [
    {
     "name": "stdout",
     "output_type": "stream",
     "text": [
      "8\n"
     ]
    },
    {
     "data": {
      "image/png": "[encoded data removed]",
      "text/plain": [
       "<Figure size 1152x576 with 1 Axes>"
      ]
     },
     "metadata": {},
     "output_type": "display_data"
    }
   ],
   "source": [
    "plt.rcParams[\"figure.figsize\"] = (16, 8)\n",
    "n = len(ludek1.Forum)\n",
    "print(n)\n",
    "plt.bar(ludek1.Forum, ludek1.Count, color = ['red','blue', 'pink', 'yellow','brown','silver','gold','green'],\n",
    "       edgecolor=['indianred','navy', 'hotpink', 'orange','darkred','gray','goldenrod','darkgreen']\n",
    "       )\n",
    "\n",
    "for i in range(len(ludek1.Forum)):\n",
    "    plt.text(x=i, y=ludek1.Count.iloc[i]+40, s=ludek1.Count.iloc[i], size = 17,horizontalalignment='center') \n",
    "plt.show()"
   ]
  },
  {
   "cell_type": "code",
   "execution_count": null,
   "metadata": {},
   "outputs": [],
   "source": []
  },
  {
   "cell_type": "code",
   "execution_count": null,
   "metadata": {},
   "outputs": [],
   "source": []
  },
  {
   "cell_type": "code",
   "execution_count": null,
   "metadata": {},
   "outputs": [],
   "source": []
  },
  {
   "cell_type": "markdown",
   "metadata": {},
   "source": [
    "## Coś o ukrainie, polityka a dostępność ludzi na forum? - nic nie znalazłam takiego, ale znalazłam coś innego :)"
   ]
  },
  {
   "cell_type": "code",
   "execution_count": 19,
   "metadata": {},
   "outputs": [],
   "source": [
    "ukrainian_Users = pd.read_csv(\"/media/ola/Elements SE/dane_gotowe/ukrainian_Users.csv\")\n",
    "ukrainian_Posts = pd.read_csv(\"/media/ola/Elements SE/dane_gotowe/ukrainian_Posts.csv\")"
   ]
  },
  {
   "cell_type": "code",
   "execution_count": 20,
   "metadata": {},
   "outputs": [],
   "source": [
    "Aktywnosc = ukrainian_Posts.loc[:,[\"Id\",\"PostTypeId\",\"OwnerUserId\"]].assign(Year=pd.to_datetime(ukrainian_Posts['CreationDate']).dt.year).\\\n",
    "assign(Month=pd.to_datetime(ukrainian_Posts['CreationDate']).dt.month).assign(Day=pd.to_datetime(ukrainian_Posts['CreationDate']).dt.day).\\\n",
    "                groupby([\"Year\", \"Month\",\"Day\"]).size().rename(\"Count\").reset_index()\n",
    "Pytania_i_odpowiedzi = ukrainian_Posts.loc[:,[\"Id\",\"PostTypeId\",\"OwnerUserId\"]].assign(Year=pd.to_datetime(ukrainian_Posts['CreationDate']).dt.year).\\\n",
    "assign(Month=pd.to_datetime(ukrainian_Posts['CreationDate']).dt.month).assign(Day=pd.to_datetime(ukrainian_Posts['CreationDate']).dt.day).\\\n",
    "                groupby([\"Year\", \"Month\",\"Day\",\"PostTypeId\"]).size().rename(\"Count\").reset_index()"
   ]
  },
  {
   "cell_type": "code",
   "execution_count": 21,
   "metadata": {},
   "outputs": [],
   "source": [
    "Pytania_i_odpowiedzi['Data'] = pd.to_datetime(Pytania_i_odpowiedzi[['Year','Month','Day']])\n",
    "Aktywnosc['Data'] = pd.to_datetime(Aktywnosc[['Year','Month','Day']])\n"
   ]
  },
  {
   "cell_type": "code",
   "execution_count": 22,
   "metadata": {},
   "outputs": [],
   "source": [
    "data4 = ukrainian_Posts.assign(Year=pd.to_datetime(ukrainian_Posts['CreationDate']).dt.year).\\\n",
    "assign(Month=pd.to_datetime(ukrainian_Posts['CreationDate']).dt.month).assign(Day=pd.to_datetime(ukrainian_Posts['CreationDate']).dt.day).\\\n",
    "loc[:,[\"Id\",\"PostTypeId\",\"ViewCount\",\"Body\",\"OwnerUserId\",\"Title\",'AnswerCount','CommentCount','Year','Month','Day']]\n",
    "data4['Data'] = pd.to_datetime(data4[['Year','Month','Day']])\n",
    "data5 = data4.loc[:,[\"Id\",\"PostTypeId\",\"ViewCount\",\"Body\",\"OwnerUserId\",\"Title\",'AnswerCount','CommentCount','Data']]"
   ]
  },
  {
   "cell_type": "code",
   "execution_count": 50,
   "metadata": {},
   "outputs": [
    {
     "data": {
      "text/html": [
       "<div>\n",
       "<style scoped>\n",
       "    .dataframe tbody tr th:only-of-type {\n",
       "        vertical-align: middle;\n",
       "    }\n",
       "\n",
       "    .dataframe tbody tr th {\n",
       "        vertical-align: top;\n",
       "    }\n",
       "\n",
       "    .dataframe thead th {\n",
       "        text-align: right;\n",
       "    }\n",
       "</style>\n",
       "<table border=\"1\" class=\"dataframe\">\n",
       "  <thead>\n",
       "    <tr style=\"text-align: right;\">\n",
       "      <th></th>\n",
       "      <th>OwnerUserId</th>\n",
       "      <th>Count</th>\n",
       "    </tr>\n",
       "  </thead>\n",
       "  <tbody>\n",
       "    <tr>\n",
       "      <th>1</th>\n",
       "      <td>4.0</td>\n",
       "      <td>337</td>\n",
       "    </tr>\n",
       "    <tr>\n",
       "      <th>277</th>\n",
       "      <td>1505.0</td>\n",
       "      <td>280</td>\n",
       "    </tr>\n",
       "    <tr>\n",
       "      <th>258</th>\n",
       "      <td>1467.0</td>\n",
       "      <td>244</td>\n",
       "    </tr>\n",
       "    <tr>\n",
       "      <th>3</th>\n",
       "      <td>8.0</td>\n",
       "      <td>244</td>\n",
       "    </tr>\n",
       "  </tbody>\n",
       "</table>\n",
       "</div>"
      ],
      "text/plain": [
       "     OwnerUserId  Count\n",
       "1            4.0    337\n",
       "277       1505.0    280\n",
       "258       1467.0    244\n",
       "3            8.0    244"
      ]
     },
     "execution_count": 50,
     "metadata": {},
     "output_type": "execute_result"
    }
   ],
   "source": [
    "data5.groupby('OwnerUserId').size().rename('Count').reset_index().sort_values('Count', ascending = False).head(4)"
   ]
  },
  {
   "cell_type": "code",
   "execution_count": 120,
   "metadata": {},
   "outputs": [],
   "source": [
    "data6=data5.query(\"OwnerUserId== 8.0\").groupby(\"Data\").size().rename(\"Count\").reset_index()"
   ]
  },
  {
   "cell_type": "code",
   "execution_count": 55,
   "metadata": {},
   "outputs": [],
   "source": [
    "data7 = data5.query(\"OwnerUserId == 4.0\").groupby('Data').size().rename(\"Count\").reset_index().sort_values('Data')"
   ]
  },
  {
   "cell_type": "code",
   "execution_count": 59,
   "metadata": {},
   "outputs": [],
   "source": [
    "data8 = data5.query(\"OwnerUserId == 1505.0\").groupby('Data').size().rename(\"Count\").reset_index().sort_values('Data')"
   ]
  },
  {
   "cell_type": "code",
   "execution_count": 53,
   "metadata": {},
   "outputs": [],
   "source": [
    "data9 = data5.query(\"OwnerUserId == 1467.0\").groupby('Data').size().rename(\"Count\").reset_index().sort_values('Data')"
   ]
  },
  {
   "cell_type": "markdown",
   "metadata": {},
   "source": [
    "## Zależność zależnosći 4 osób najbardziej aktywnych"
   ]
  },
  {
   "cell_type": "code",
   "execution_count": 121,
   "metadata": {},
   "outputs": [
    {
     "data": {
      "text/html": [
       "<iframe id=\"igraph\" scrolling=\"no\" style=\"border:none;\" seamless=\"seamless\" src=\"https://plot.ly/~aleksandramiesiac/22.embed\" height=\"525px\" width=\"100%\"></iframe>"
      ],
      "text/plain": [
       "<plotly.tools.PlotlyDisplay object>"
      ]
     },
     "execution_count": 121,
     "metadata": {},
     "output_type": "execute_result"
    }
   ],
   "source": [
    "data1 = [\n",
    "    go.Scatter(\n",
    "    x = data7.Data, \n",
    "    y = data7.Count, \n",
    "    name = 'OwnerUserId = 4'),\n",
    "    go.Scatter(\n",
    "    x = data6.Data,\n",
    "    y = data6.Count,\n",
    "    name = 'OwnerUserId = 8'\n",
    "    ),\n",
    "    go.Scatter(\n",
    "    x = data8.Data, \n",
    "    y = data8.Count, \n",
    "    name = 'OwnerUserId = 1505'),\n",
    "    go.Scatter(\n",
    "    x = data9.Data,\n",
    "    y = data9.Count,\n",
    "    name = 'OwnerUserId = 1467'\n",
    "    )\n",
    "]\n",
    "py.iplot(data1, filename='pandas-line-naming-traces')"
   ]
  },
  {
   "cell_type": "markdown",
   "metadata": {},
   "source": [
    "# Zbiorcza aktywność ludzi na ukraińskim forum"
   ]
  },
  {
   "cell_type": "code",
   "execution_count": 25,
   "metadata": {},
   "outputs": [
    {
     "data": {
      "text/html": [
       "<iframe id=\"igraph\" scrolling=\"no\" style=\"border:none;\" seamless=\"seamless\" src=\"https://plot.ly/~aleksandramiesiac/20.embed\" height=\"525px\" width=\"100%\"></iframe>"
      ],
      "text/plain": [
       "<plotly.tools.PlotlyDisplay object>"
      ]
     },
     "execution_count": 25,
     "metadata": {},
     "output_type": "execute_result"
    }
   ],
   "source": [
    "trace = go.Scatter(x=list(Aktywnosc.Data),\n",
    "                   y=list(Aktywnosc.Count))\n",
    "\n",
    "data = [trace]\n",
    "layout = dict(\n",
    "    title='Activity in Ukrainian blog',\n",
    "    xaxis=dict(\n",
    "        rangeselector=dict(\n",
    "            buttons=list([\n",
    "                dict(count=1,\n",
    "                     label='1m',\n",
    "                     step='month',\n",
    "                     stepmode='backward'),\n",
    "                dict(count=6,\n",
    "                     label='6m',\n",
    "                     step='month',\n",
    "                     stepmode='backward'),\n",
    "                dict(count=1,\n",
    "                    label='YTD',\n",
    "                    step='year',\n",
    "                    stepmode='todate'),\n",
    "                dict(count=1,\n",
    "                    label='1y',\n",
    "                    step='year',\n",
    "                    stepmode='backward'),\n",
    "                dict(step='all')\n",
    "            ])\n",
    "        ),\n",
    "        rangeslider=dict(\n",
    "            visible = True\n",
    "        ),\n",
    "        type='date'\n",
    "    )\n",
    ")\n",
    "\n",
    "fig = dict(data=data, layout=layout)\n",
    "py.iplot(fig)"
   ]
  },
  {
   "cell_type": "markdown",
   "metadata": {},
   "source": [
    "## Wniosek? 4 osóby robią prawie całą aktywność"
   ]
  },
  {
   "cell_type": "markdown",
   "metadata": {},
   "source": [
    "# Kurs bit coina a aktywnośc na kryptowalutach"
   ]
  },
  {
   "cell_type": "markdown",
   "metadata": {},
   "source": [
    "## Załadowanie danych o kursie bitcoina"
   ]
  },
  {
   "cell_type": "code",
   "execution_count": 61,
   "metadata": {},
   "outputs": [],
   "source": [
    "bit_kurs =pd.read_csv(\"/media/ola/Elements SE/dane_dodatkowe/market-price.csv\")\n",
    "#ukrainian_Badges = pd.read_csv(\"/media/ola/Elements SE/dane_gotowe/ukrainian_Badges.csv\")"
   ]
  },
  {
   "cell_type": "code",
   "execution_count": 78,
   "metadata": {},
   "outputs": [],
   "source": [
    "bit_kurs = bit_kurs.rename(columns={\"2009-01-03 00:00:00\":\"Data\",\"0.0\":\"Kurs\"})\n",
    "dane_bitcoin = bit_kurs.assign(Year=pd.to_datetime(bit_kurs['Data']).dt.year).query(\"Year >= 2011\")"
   ]
  },
  {
   "cell_type": "markdown",
   "metadata": {},
   "source": [
    "# Załadowanie danych o bitcoinie ze stackexchange"
   ]
  },
  {
   "cell_type": "code",
   "execution_count": 76,
   "metadata": {},
   "outputs": [],
   "source": [
    "bitcoin_Posts = pd.read_csv(\"/media/ola/Elements SE/dane_gotowe/bitcoin_Posts.csv\")"
   ]
  },
  {
   "cell_type": "code",
   "execution_count": 148,
   "metadata": {},
   "outputs": [],
   "source": [
    "stackbitcoin = bitcoin_Posts.assign(Year=pd.to_datetime(bitcoin_Posts['CreationDate']).dt.year, Month=pd.to_datetime(bitcoin_Posts['CreationDate']).\\\n",
    "                     dt.month,Day=pd.to_datetime(bitcoin_Posts['CreationDate']).dt.day).query(\"OwnerUserId != -1\").groupby(['Year','Month','Day']).size().rename('Count').reset_index()"
   ]
  },
  {
   "cell_type": "code",
   "execution_count": 149,
   "metadata": {},
   "outputs": [],
   "source": [
    "stackbitcoin['Data'] = pd.to_datetime(stackbitcoin[['Year','Month','Day']])"
   ]
  },
  {
   "cell_type": "code",
   "execution_count": 150,
   "metadata": {},
   "outputs": [
    {
     "data": {
      "text/html": [
       "<iframe id=\"igraph\" scrolling=\"no\" style=\"border:none;\" seamless=\"seamless\" src=\"https://plot.ly/~aleksandramiesiac/26.embed\" height=\"525px\" width=\"100%\"></iframe>"
      ],
      "text/plain": [
       "<plotly.tools.PlotlyDisplay object>"
      ]
     },
     "execution_count": 150,
     "metadata": {},
     "output_type": "execute_result"
    }
   ],
   "source": [
    "\n",
    "trace1 =go.Scatter(\n",
    "        x = stackbitcoin.Data, \n",
    "        y = stackbitcoin.Count, \n",
    "        name = 'Aktywnosc', \n",
    "        line = dict(color='rgb(148, 103, 189)',\n",
    "                   width = 1)\n",
    ")\n",
    "\n",
    "trace2 = go.Scatter(\n",
    "        x = dane_bitcoin.Data,\n",
    "        y = dane_bitcoin.Kurs,\n",
    "        name = 'Kurs',\n",
    "        yaxis='y2',\n",
    "        line = dict(width = 3)\n",
    "        )\n",
    "\n",
    "data2 = [trace1,trace2]\n",
    "layout = go.Layout(\n",
    "    title='Course Bitcoin vs Activity',\n",
    "    yaxis=dict(\n",
    "        title='Activity',\n",
    "        titlefont = dict(color='orangered')\n",
    "    ),\n",
    "    yaxis2=dict(\n",
    "        title='Course',\n",
    "        titlefont=dict(\n",
    "            color='rgb(148, 103, 189)'\n",
    "        ),\n",
    "        overlaying='y',\n",
    "        side='right'\n",
    "    )\n",
    ")\n",
    "fig = go.Figure(data=data2, layout=layout)\n",
    "py.iplot(fig, filename='kurs-vs-activity')"
   ]
  },
  {
   "cell_type": "markdown",
   "metadata": {},
   "source": [
    "# Aktywność na Gardening a sezony - jakaś zależność?"
   ]
  },
  {
   "cell_type": "code",
   "execution_count": 137,
   "metadata": {},
   "outputs": [],
   "source": [
    "gar_pos = pd.read_csv(\"/media/ola/Elements SE/dane_gotowe/gardening_Posts.csv\")"
   ]
  },
  {
   "cell_type": "code",
   "execution_count": 145,
   "metadata": {},
   "outputs": [],
   "source": [
    "active = gar_pos.assign(Year=pd.to_datetime(gar_pos['CreationDate']).dt.year, Month=pd.to_datetime(gar_pos['CreationDate']).\\\n",
    "                     dt.month,Day=pd.to_datetime(gar_pos['CreationDate']).dt.day).query(\"OwnerUserId != -1\").groupby(['Year','Month','Day']).size().rename('Count').reset_index()"
   ]
  },
  {
   "cell_type": "code",
   "execution_count": 146,
   "metadata": {},
   "outputs": [],
   "source": [
    "active['Data'] = pd.to_datetime(active[['Year','Month','Day']])"
   ]
  },
  {
   "cell_type": "code",
   "execution_count": 170,
   "metadata": {},
   "outputs": [
    {
     "data": {
      "text/html": [
       "<iframe id=\"igraph\" scrolling=\"no\" style=\"border:none;\" seamless=\"seamless\" src=\"https://plot.ly/~aleksandramiesiac/30.embed\" height=\"525px\" width=\"100%\"></iframe>"
      ],
      "text/plain": [
       "<plotly.tools.PlotlyDisplay object>"
      ]
     },
     "execution_count": 170,
     "metadata": {},
     "output_type": "execute_result"
    }
   ],
   "source": [
    "trace1 =go.Scatter(\n",
    "        x = active.Data, \n",
    "        y = active.Count, \n",
    "        name = 'Aktywnosc', \n",
    "        line = dict(color='rgb(148, 103, 189)',\n",
    "                   width = 1)\n",
    ")\n",
    "layout = {\n",
    "    # to highlight the timestamp we use shapes and create a rectangular\n",
    "    'shapes': [\n",
    "        # 1st highlight during Feb 4 - Feb 6\n",
    "        {\n",
    "            'type': 'rect','xref': 'x','yref': 'paper','x0': '2011-05-01','y0': 0,'x1': '2011-10-01','y1': 1,'fillcolor': '#d3d3d3','opacity': 0.2,'line': {'width': 0,}},\n",
    "        {\n",
    "            'type': 'rect','xref': 'x','yref': 'paper','x0': '2012-05-01','y0': 0,'x1': '2012-10-01','y1': 1,'fillcolor': '#d3d3d3','opacity': 0.2,'line': {'width': 0,}},\n",
    "        {\n",
    "            'type': 'rect','xref': 'x','yref': 'paper','x0': '2013-05-01','y0': 0,'x1': '2013-10-01','y1': 1,'fillcolor': '#d3d3d3','opacity': 0.2,'line': {'width': 0,}},\n",
    "        {\n",
    "            'type': 'rect','xref': 'x','yref': 'paper','x0': '2014-05-01','y0': 0,'x1': '2014-10-01','y1': 1,'fillcolor': '#d3d3d3','opacity': 0.2,'line': {'width': 0,}},\n",
    "        {\n",
    "            'type': 'rect','xref': 'x','yref': 'paper','x0': '2015-05-01','y0': 0,'x1': '2015-10-01','y1': 1,'fillcolor': '#d3d3d3','opacity': 0.2,'line': {'width': 0,}},\n",
    "        {\n",
    "            'type': 'rect','xref': 'x','yref': 'paper','x0': '2016-05-01','y0': 0,'x1': '2016-10-01','y1': 1,'fillcolor': '#d3d3d3','opacity': 0.2,'line': {'width': 0,}},\n",
    "        {\n",
    "            'type': 'rect','xref': 'x','yref': 'paper','x0': '2017-05-01','y0': 0,'x1': '2017-10-01','y1': 1,'fillcolor': '#d3d3d3','opacity': 0.2,'line': {'width': 0,}},   \n",
    "        {\n",
    "            'type': 'rect','xref': 'x','yref': 'paper','x0': '2018-05-01','y0': 0,'x1': '2018-10-01','y1': 1,'fillcolor': '#d3d3d3','opacity': 0.2,'line': {'width': 0,}}\n",
    "    ]\n",
    "}\n",
    "data3 = [trace1]\n",
    "\n",
    "py.iplot({'data':data3, 'layout':layout}, filename='Gardening-Activity')"
   ]
  },
  {
   "cell_type": "markdown",
   "metadata": {},
   "source": [
    "Zaznaczyłam sezony rolnicze  no i fajnie widać zależność, że przed sezonem ludzie piszą i początek sezonu - poem mają dużo pracy, więc nie mają czasu, a w zime jest mała dość aktywność, to się zgadza z rzeczywistością :)"
   ]
  },
  {
   "cell_type": "markdown",
   "metadata": {},
   "source": [
    "# Plotly"
   ]
  },
  {
   "cell_type": "code",
   "execution_count": 26,
   "metadata": {},
   "outputs": [],
   "source": [
    "import plotly \n",
    "plotly.tools.set_credentials_file(username='aleksandramiesiac', api_key='klaMDSOdIcIVScwKfzXU')"
   ]
  },
  {
   "cell_type": "code",
   "execution_count": null,
   "metadata": {},
   "outputs": [],
   "source": []
  },
  {
   "cell_type": "code",
   "execution_count": null,
   "metadata": {},
   "outputs": [],
   "source": []
  },
  {
   "cell_type": "code",
   "execution_count": null,
   "metadata": {},
   "outputs": [],
   "source": []
  },
  {
   "cell_type": "code",
   "execution_count": null,
   "metadata": {},
   "outputs": [],
   "source": []
  },
  {
   "cell_type": "markdown",
   "metadata": {},
   "source": [
    "# Badges"
   ]
  },
  {
   "cell_type": "code",
   "execution_count": 66,
   "metadata": {},
   "outputs": [
    {
     "name": "stdout",
     "output_type": "stream",
     "text": [
      "Zaczynamy!\n"
     ]
    },
    {
     "name": "stderr",
     "output_type": "stream",
     "text": [
      "100%|██████████| 15/15 [00:05<00:00,  2.04it/s]\n",
      "100%|██████████| 15/15 [00:04<00:00,  4.95it/s]\n",
      "100%|██████████| 15/15 [00:01<00:00,  5.23it/s]\n",
      "100%|██████████| 15/15 [00:01<00:00, 14.08it/s]\n",
      "100%|██████████| 15/15 [00:02<00:00,  3.72it/s]\n",
      "100%|██████████| 15/15 [00:02<00:00,  3.54it/s]\n",
      "100%|██████████| 15/15 [00:01<00:00,  7.99it/s]\n",
      "100%|██████████| 15/15 [00:04<00:00,  2.32it/s]\n",
      "100%|██████████| 15/15 [00:00<00:00, 14.38it/s]\n",
      "100%|██████████| 15/15 [00:01<00:00,  7.29it/s]\n",
      "100%|██████████| 15/15 [00:01<00:00,  7.83it/s]\n",
      "100%|██████████| 15/15 [00:02<00:00,  5.57it/s]\n",
      "100%|██████████| 15/15 [00:02<00:00,  5.01it/s]\n",
      "100%|██████████| 15/15 [00:01<00:00,  5.77it/s]\n",
      "100%|██████████| 15/15 [00:09<00:00,  1.40it/s]\n",
      "100%|██████████| 15/15 [00:01<00:00, 10.79it/s]\n",
      "100%|██████████| 15/15 [00:04<00:00,  1.93it/s]\n",
      "100%|██████████| 15/15 [00:03<00:00,  3.26it/s]\n",
      "100%|██████████| 15/15 [00:08<00:00,  1.20it/s]\n",
      "100%|██████████| 15/15 [00:03<00:00,  3.64it/s]\n",
      "100%|██████████| 15/15 [00:07<00:00,  1.52it/s]\n",
      "100%|██████████| 15/15 [00:34<00:00,  9.57s/it]\n",
      "100%|██████████| 9/9 [00:01<00:00,  5.75it/s]\n"
     ]
    },
    {
     "name": "stdout",
     "output_type": "stream",
     "text": [
      "Gotowe! Zajęło nam to: 182.8s\n"
     ]
    }
   ],
   "source": [
    "Badges = wczytaj_main(\n",
    "    input_path=\"/media/ola/Elements SE/dane_gotowe/\",\n",
    "    typ_pliku=\"Badges\",\n",
    "    kolumny=[\"UserId\", \"Class\"],\n",
    "    part_len=15\n",
    ")"
   ]
  },
  {
   "cell_type": "markdown",
   "metadata": {},
   "source": [
    "# Zliczenie postów na użytkownika na forum"
   ]
  },
  {
   "cell_type": "code",
   "execution_count": null,
   "metadata": {},
   "outputs": [],
   "source": [
    "(\n",
    "    pd.merge(\n",
    "        left=users,\n",
    "        right=posts,\n",
    "        left_on=[\"Forum\", \"Id\"],\n",
    "        right_on[\"Forum\", \"OwnerUserId\"]\n",
    "    )\n",
    "    .groupby([\"AccountId\", \"Forum\"])\n",
    "    .size.rename(\"Liczba_postow\")\n",
    "    .reset_index(drop=True)\n",
    ")"
   ]
  }
 ],
 "metadata": {
  "kernelspec": {
   "display_name": "Python 3",
   "language": "python",
   "name": "python3"
  },
  "language_info": {
   "codemirror_mode": {
    "name": "ipython",
    "version": 3
   },
   "file_extension": ".py",
   "mimetype": "text/x-python",
   "name": "python",
   "nbconvert_exporter": "python",
   "pygments_lexer": "ipython3",
   "version": "3.7.0"
  }
 },
 "nbformat": 4,
 "nbformat_minor": 2
}
